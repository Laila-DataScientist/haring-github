{
 "cells": [
  {
   "cell_type": "code",
   "execution_count": 74,
   "metadata": {},
   "outputs": [],
   "source": [
    "import pandas as pd\n",
    "import plotly.express as px\n",
    "import plotly.graph_objects as go\n",
    "from plotly.offline import iplot\n",
    "from plotly.graph_objs import Scatter, Figure, Layout, Bar\n",
    "import plotly.io as pio\n",
    "from highcharts import Highchart\n",
    "pio.templates.default = \"none\""
   ]
  },
  {
   "cell_type": "code",
   "execution_count": 75,
   "metadata": {},
   "outputs": [
    {
     "data": {
      "text/plain": [
       "['Fiches Entreprise de Rungis']"
      ]
     },
     "execution_count": 75,
     "metadata": {},
     "output_type": "execute_result"
    }
   ],
   "source": [
    "Grossistes = pd.ExcelFile(\"Grossistes.xlsx\")\n",
    "Grossistes.sheet_names"
   ]
  },
  {
   "cell_type": "code",
   "execution_count": 76,
   "metadata": {},
   "outputs": [
    {
     "data": {
      "text/html": [
       "<div>\n",
       "<style scoped>\n",
       "    .dataframe tbody tr th:only-of-type {\n",
       "        vertical-align: middle;\n",
       "    }\n",
       "\n",
       "    .dataframe tbody tr th {\n",
       "        vertical-align: top;\n",
       "    }\n",
       "\n",
       "    .dataframe thead th {\n",
       "        text-align: right;\n",
       "    }\n",
       "</style>\n",
       "<table border=\"1\" class=\"dataframe\">\n",
       "  <thead>\n",
       "    <tr style=\"text-align: right;\">\n",
       "      <th></th>\n",
       "      <th>NO_RCS</th>\n",
       "      <th>RAISONSOCIALE</th>\n",
       "      <th>ENSEIGNE</th>\n",
       "      <th>ADRESSE1</th>\n",
       "      <th>ADRESSE2</th>\n",
       "      <th>CODEPOSTAL</th>\n",
       "      <th>VILLE</th>\n",
       "      <th>TELEPHONE</th>\n",
       "      <th>NAF</th>\n",
       "      <th>FORME</th>\n",
       "      <th>...</th>\n",
       "      <th>1H</th>\n",
       "      <th>1J</th>\n",
       "      <th>1K</th>\n",
       "      <th>A1</th>\n",
       "      <th>A2</th>\n",
       "      <th>A3</th>\n",
       "      <th>A4</th>\n",
       "      <th>A6</th>\n",
       "      <th>A9</th>\n",
       "      <th>YP</th>\n",
       "    </tr>\n",
       "  </thead>\n",
       "  <tbody>\n",
       "    <tr>\n",
       "      <th>0</th>\n",
       "      <td>65801243</td>\n",
       "      <td>FRUITIERE FRANCE (CIE...)</td>\n",
       "      <td>NaN</td>\n",
       "      <td>COUR D ALSACE</td>\n",
       "      <td>BATIMENT C6A PLA 430</td>\n",
       "      <td>94150</td>\n",
       "      <td>RUNGIS</td>\n",
       "      <td>01 56 34 26 26</td>\n",
       "      <td>4631Z</td>\n",
       "      <td>SAS</td>\n",
       "      <td>...</td>\n",
       "      <td>0</td>\n",
       "      <td>0</td>\n",
       "      <td>0</td>\n",
       "      <td>0</td>\n",
       "      <td>0</td>\n",
       "      <td>0</td>\n",
       "      <td>0</td>\n",
       "      <td>0</td>\n",
       "      <td>0</td>\n",
       "      <td>187</td>\n",
       "    </tr>\n",
       "    <tr>\n",
       "      <th>1</th>\n",
       "      <td>318477528</td>\n",
       "      <td>GREENYARD FRESH FRANCE</td>\n",
       "      <td>NaN</td>\n",
       "      <td>15 BOULEVARD DU DELTA</td>\n",
       "      <td>ZONE EURO DELTA BATIMENT DE1</td>\n",
       "      <td>94150</td>\n",
       "      <td>RUNGIS</td>\n",
       "      <td>01 49 78 20 00</td>\n",
       "      <td>4631Z</td>\n",
       "      <td>SASU</td>\n",
       "      <td>...</td>\n",
       "      <td>0</td>\n",
       "      <td>0</td>\n",
       "      <td>0</td>\n",
       "      <td>0</td>\n",
       "      <td>0</td>\n",
       "      <td>0</td>\n",
       "      <td>0</td>\n",
       "      <td>0</td>\n",
       "      <td>0</td>\n",
       "      <td>48</td>\n",
       "    </tr>\n",
       "    <tr>\n",
       "      <th>2</th>\n",
       "      <td>313468191</td>\n",
       "      <td>SIIM - STE INTERNATIONALE D'IMPORTATION</td>\n",
       "      <td>NaN</td>\n",
       "      <td>1 PLACE PAUL OMER DECUGIS</td>\n",
       "      <td>NaN</td>\n",
       "      <td>94150</td>\n",
       "      <td>RUNGIS</td>\n",
       "      <td>NaN</td>\n",
       "      <td>4631Z</td>\n",
       "      <td>SAS</td>\n",
       "      <td>...</td>\n",
       "      <td>0</td>\n",
       "      <td>0</td>\n",
       "      <td>0</td>\n",
       "      <td>0</td>\n",
       "      <td>0</td>\n",
       "      <td>0</td>\n",
       "      <td>0</td>\n",
       "      <td>0</td>\n",
       "      <td>0</td>\n",
       "      <td>62</td>\n",
       "    </tr>\n",
       "    <tr>\n",
       "      <th>3</th>\n",
       "      <td>389540824</td>\n",
       "      <td>VOICEVALE FRANCE</td>\n",
       "      <td>NaN</td>\n",
       "      <td>60 AVENUE DE NEW YORK</td>\n",
       "      <td>NaN</td>\n",
       "      <td>75016</td>\n",
       "      <td>PARIS</td>\n",
       "      <td>01 40 50 24 80</td>\n",
       "      <td>4631Z</td>\n",
       "      <td>SARL</td>\n",
       "      <td>...</td>\n",
       "      <td>0</td>\n",
       "      <td>0</td>\n",
       "      <td>0</td>\n",
       "      <td>0</td>\n",
       "      <td>0</td>\n",
       "      <td>0</td>\n",
       "      <td>0</td>\n",
       "      <td>0</td>\n",
       "      <td>0</td>\n",
       "      <td>13</td>\n",
       "    </tr>\n",
       "    <tr>\n",
       "      <th>4</th>\n",
       "      <td>389702473</td>\n",
       "      <td>FRUITS DU MONDE</td>\n",
       "      <td>NaN</td>\n",
       "      <td>38 RUE DU SEMINAIRE</td>\n",
       "      <td>CENTRA 401 3EME ETAGE - CHEVILLY LARUE</td>\n",
       "      <td>94550</td>\n",
       "      <td>CHEVILLY LARUE</td>\n",
       "      <td>NaN</td>\n",
       "      <td>4631Z</td>\n",
       "      <td>SAS</td>\n",
       "      <td>...</td>\n",
       "      <td>0</td>\n",
       "      <td>0</td>\n",
       "      <td>0</td>\n",
       "      <td>0</td>\n",
       "      <td>0</td>\n",
       "      <td>0</td>\n",
       "      <td>0</td>\n",
       "      <td>0</td>\n",
       "      <td>0</td>\n",
       "      <td>13</td>\n",
       "    </tr>\n",
       "  </tbody>\n",
       "</table>\n",
       "<p>5 rows × 211 columns</p>\n",
       "</div>"
      ],
      "text/plain": [
       "      NO_RCS                            RAISONSOCIALE ENSEIGNE  \\\n",
       "0   65801243                FRUITIERE FRANCE (CIE...)      NaN   \n",
       "1  318477528                   GREENYARD FRESH FRANCE      NaN   \n",
       "2  313468191  SIIM - STE INTERNATIONALE D'IMPORTATION      NaN   \n",
       "3  389540824                         VOICEVALE FRANCE      NaN   \n",
       "4  389702473                          FRUITS DU MONDE      NaN   \n",
       "\n",
       "                    ADRESSE1                                ADRESSE2  \\\n",
       "0              COUR D ALSACE                    BATIMENT C6A PLA 430   \n",
       "1      15 BOULEVARD DU DELTA            ZONE EURO DELTA BATIMENT DE1   \n",
       "2  1 PLACE PAUL OMER DECUGIS                                     NaN   \n",
       "3      60 AVENUE DE NEW YORK                                     NaN   \n",
       "4        38 RUE DU SEMINAIRE  CENTRA 401 3EME ETAGE - CHEVILLY LARUE   \n",
       "\n",
       "   CODEPOSTAL           VILLE       TELEPHONE    NAF FORME  ... 1H 1J 1K A1  \\\n",
       "0       94150          RUNGIS  01 56 34 26 26  4631Z   SAS  ...  0  0  0  0   \n",
       "1       94150          RUNGIS  01 49 78 20 00  4631Z  SASU  ...  0  0  0  0   \n",
       "2       94150          RUNGIS             NaN  4631Z   SAS  ...  0  0  0  0   \n",
       "3       75016           PARIS  01 40 50 24 80  4631Z  SARL  ...  0  0  0  0   \n",
       "4       94550  CHEVILLY LARUE             NaN  4631Z   SAS  ...  0  0  0  0   \n",
       "\n",
       "   A2 A3  A4 A6  A9   YP  \n",
       "0   0  0   0  0   0  187  \n",
       "1   0  0   0  0   0   48  \n",
       "2   0  0   0  0   0   62  \n",
       "3   0  0   0  0   0   13  \n",
       "4   0  0   0  0   0   13  \n",
       "\n",
       "[5 rows x 211 columns]"
      ]
     },
     "execution_count": 76,
     "metadata": {},
     "output_type": "execute_result"
    }
   ],
   "source": [
    "Fournisseurs = pd.read_excel(Grossistes,'Fiches Entreprise de Rungis')\n",
    "Fournisseurs.head()"
   ]
  },
  {
   "cell_type": "code",
   "execution_count": 77,
   "metadata": {},
   "outputs": [
    {
     "data": {
      "text/plain": [
       "(157, 211)"
      ]
     },
     "execution_count": 77,
     "metadata": {},
     "output_type": "execute_result"
    }
   ],
   "source": [
    "Fournisseurs.shape"
   ]
  },
  {
   "cell_type": "code",
   "execution_count": 78,
   "metadata": {},
   "outputs": [
    {
     "data": {
      "text/plain": [
       "Index(['NO_RCS', 'RAISONSOCIALE', 'ENSEIGNE', 'ADRESSE1', 'ADRESSE2',\n",
       "       'CODEPOSTAL', 'VILLE', 'TELEPHONE', 'NAF', 'FORME',\n",
       "       ...\n",
       "       '1H', '1J', '1K', 'A1', 'A2', 'A3', 'A4', 'A6', 'A9', 'YP'],\n",
       "      dtype='object', length=211)"
      ]
     },
     "execution_count": 78,
     "metadata": {},
     "output_type": "execute_result"
    }
   ],
   "source": [
    "Fournisseurs.columns"
   ]
  },
  {
   "cell_type": "code",
   "execution_count": 79,
   "metadata": {},
   "outputs": [
    {
     "name": "stderr",
     "output_type": "stream",
     "text": [
      "/home/lbenromdhane/.local/lib/python3.6/site-packages/ipykernel_launcher.py:2: SettingWithCopyWarning:\n",
      "\n",
      "\n",
      "A value is trying to be set on a copy of a slice from a DataFrame.\n",
      "Try using .loc[row_indexer,col_indexer] = value instead\n",
      "\n",
      "See the caveats in the documentation: https://pandas.pydata.org/pandas-docs/stable/user_guide/indexing.html#returning-a-view-versus-a-copy\n",
      "\n"
     ]
    },
    {
     "data": {
      "text/html": [
       "<div>\n",
       "<style scoped>\n",
       "    .dataframe tbody tr th:only-of-type {\n",
       "        vertical-align: middle;\n",
       "    }\n",
       "\n",
       "    .dataframe tbody tr th {\n",
       "        vertical-align: top;\n",
       "    }\n",
       "\n",
       "    .dataframe thead th {\n",
       "        text-align: right;\n",
       "    }\n",
       "</style>\n",
       "<table border=\"1\" class=\"dataframe\">\n",
       "  <thead>\n",
       "    <tr style=\"text-align: right;\">\n",
       "      <th></th>\n",
       "      <th>RAISONSOCIALE</th>\n",
       "      <th>CODEPOSTAL</th>\n",
       "      <th>VILLE</th>\n",
       "      <th>DATECREATION</th>\n",
       "      <th>FL</th>\n",
       "      <th>Date</th>\n",
       "    </tr>\n",
       "  </thead>\n",
       "  <tbody>\n",
       "    <tr>\n",
       "      <th>0</th>\n",
       "      <td>FRUITIERE FRANCE (CIE...)</td>\n",
       "      <td>94150</td>\n",
       "      <td>RUNGIS</td>\n",
       "      <td>01/01/1965</td>\n",
       "      <td>141014</td>\n",
       "      <td>1965-01-01</td>\n",
       "    </tr>\n",
       "    <tr>\n",
       "      <th>1</th>\n",
       "      <td>GREENYARD FRESH FRANCE</td>\n",
       "      <td>94150</td>\n",
       "      <td>RUNGIS</td>\n",
       "      <td>01/01/1980</td>\n",
       "      <td>98869</td>\n",
       "      <td>1980-01-01</td>\n",
       "    </tr>\n",
       "    <tr>\n",
       "      <th>2</th>\n",
       "      <td>SIIM - STE INTERNATIONALE D'IMPORTATION</td>\n",
       "      <td>94150</td>\n",
       "      <td>RUNGIS</td>\n",
       "      <td>01/01/1978</td>\n",
       "      <td>97012</td>\n",
       "      <td>1978-01-01</td>\n",
       "    </tr>\n",
       "    <tr>\n",
       "      <th>3</th>\n",
       "      <td>VOICEVALE FRANCE</td>\n",
       "      <td>75016</td>\n",
       "      <td>PARIS</td>\n",
       "      <td>16/12/1992</td>\n",
       "      <td>95441</td>\n",
       "      <td>1992-12-16</td>\n",
       "    </tr>\n",
       "    <tr>\n",
       "      <th>4</th>\n",
       "      <td>FRUITS DU MONDE</td>\n",
       "      <td>94550</td>\n",
       "      <td>CHEVILLY LARUE</td>\n",
       "      <td>01/01/1993</td>\n",
       "      <td>87421</td>\n",
       "      <td>1993-01-01</td>\n",
       "    </tr>\n",
       "  </tbody>\n",
       "</table>\n",
       "</div>"
      ],
      "text/plain": [
       "                             RAISONSOCIALE  CODEPOSTAL           VILLE  \\\n",
       "0                FRUITIERE FRANCE (CIE...)       94150          RUNGIS   \n",
       "1                   GREENYARD FRESH FRANCE       94150          RUNGIS   \n",
       "2  SIIM - STE INTERNATIONALE D'IMPORTATION       94150          RUNGIS   \n",
       "3                         VOICEVALE FRANCE       75016           PARIS   \n",
       "4                          FRUITS DU MONDE       94550  CHEVILLY LARUE   \n",
       "\n",
       "  DATECREATION      FL       Date  \n",
       "0   01/01/1965  141014 1965-01-01  \n",
       "1   01/01/1980   98869 1980-01-01  \n",
       "2   01/01/1978   97012 1978-01-01  \n",
       "3   16/12/1992   95441 1992-12-16  \n",
       "4   01/01/1993   87421 1993-01-01  "
      ]
     },
     "execution_count": 79,
     "metadata": {},
     "output_type": "execute_result"
    }
   ],
   "source": [
    "data = Fournisseurs[['RAISONSOCIALE','CODEPOSTAL','VILLE','DATECREATION','FL']]\n",
    "data['Date'] = pd.to_datetime(data['DATECREATION'], format = '%d/%m/%Y')\n",
    "data.head()"
   ]
  },
  {
   "cell_type": "markdown",
   "metadata": {},
   "source": [
    "# Data Visualisation "
   ]
  },
  {
   "cell_type": "code",
   "execution_count": 80,
   "metadata": {},
   "outputs": [
    {
     "data": {
      "application/vnd.plotly.v1+json": {
       "config": {
        "plotlyServerURL": "https://plot.ly"
       },
       "data": [
        {
         "hovertemplate": "RAISONSOCIALE=%{x}<br>FL=%{y}<extra></extra>",
         "legendgroup": "",
         "marker": {
          "color": "#1F77B4",
          "symbol": "circle"
         },
         "mode": "markers",
         "name": "",
         "orientation": "v",
         "showlegend": false,
         "type": "scatter",
         "x": [
          "FRUITIERE FRANCE (CIE...)",
          "GREENYARD FRESH FRANCE",
          "SIIM - STE INTERNATIONALE D'IMPORTATION",
          "VOICEVALE FRANCE",
          "FRUITS DU MONDE",
          "POM ALLIANCE",
          "GEORGES HELFER SA FRANCE",
          "POMONA IMPORT",
          "CHRONOPRIMEURS",
          "DISTRIBUTION EXPRESSE A VOCATION ALIMENTAIRE SODIEXVAL (STE DE...)",
          "CAPEXO",
          "PIERRE DESMETTRE ET FILS (ETS...)",
          "DEL MONTE FRANCE",
          "VINAS",
          "BC PRIM",
          "SPEIR - STE PARISIENNE EXPORT IMPORT REPARTITION",
          "TERRAGAIA",
          "HALLES MANDAR",
          "UNION PRIMEURS ETS LAURANCE",
          "BESSON ET ALAPONT (ETS...)",
          "BLAMPIN FRUITS IMPORT RUNGIS",
          "LA PULPE",
          "NETA",
          "GROUPE DYNAMIS",
          "JH",
          "BRATIGNY",
          "MACEO DISTRIBUTION",
          "SELECT AGRUMES",
          "COMMERCIAL FRUITS",
          "PRIERE ET ZAHLER FRERES",
          "CRUCHAUDET - GRANDJEAN",
          "BANAGRUMES",
          "FRELICOT",
          "BONABIO",
          "PVM",
          "BEVA FRUITS INTERNATIONAL",
          "BALEUX (ETS...)",
          "MONLOUP (ETS...)",
          "ROUX (ETS...)",
          "HM DISTRIBUTION",
          "PUECH MONTANA",
          "MG PRIMEURS",
          "RG FRANCE",
          "ROUSSINEAU (ETS...)",
          "CAZALIS",
          "LEBLANC ET SERRE",
          "PDM",
          "MOOREA COMMERCE FRUITS",
          "BESSON FRERES",
          "GBS",
          "DAUMESNIL PRIMEURS",
          "MIGHIRIAN FRERES",
          "BONIFACCI FRERES",
          "HALLES ORLY SUD",
          "PRIMEURS SAINT DENIS",
          "EXOTICA",
          "AMS EUROPEAN",
          "PARIS AIL",
          "AVON",
          "RAFAEL LOPEZ",
          "ELITE FRUITS",
          "EXO 3",
          "GOETZ",
          "ADM PRIMEURS",
          "MOUNEYRAC FRERES",
          "PRIMEUROPE IMPORT ET EXPORT",
          "BARNIER",
          "LLISO FRERES BANANES FRUITS PRIMEURS",
          "PRIMOUEST IMPEX",
          "EUROPLANT FRANCE",
          "COICAULT THOMAS",
          "CHAMPARIS",
          "HALLES PARIS SUD",
          "MAGELLAN",
          "SANCHO FRUITS",
          "LA POM'ROSE",
          "PRIMEUR SERVICES DISTRIBUTION",
          "AGRUBAN",
          "ASIA GROUP",
          "SOLANES (ETS...)",
          "PAUL PRIMEURS",
          "DJSMM",
          "SOLPOM",
          "MAGNIER (ETS...)",
          "OLIVER (ETS...)",
          "BIOALIZE",
          "ELQUI IMPORT",
          "LUKY FRUITS",
          "LES JARDINS D'ALBERT",
          "PROMAFRUIT",
          "PRIM'FRUIT",
          "ANDRADE DISTRIBUTION",
          "LES VERGERS CHRISTOLIENS - ETS F REBIFFE",
          "PRODISCO",
          "CAPOSUD",
          "PSL FRANCE",
          "PARIS SAVEURS",
          "PAMARTE",
          "MARTIAL DUVAL (ETS...)",
          "RIVIERA",
          "MICHELLE MAUDUIT (ETS...)",
          "JULMAT PRIMEURS",
          "PARIS SELECT",
          "LEGUERINAIS PRIMEURS",
          "ATOM APPROVISIONNEMENTS TRAFIC OUTRE MER",
          "SUN 7 FRUITS",
          "L'HARMEROULT ET CUET",
          "PE-WE",
          "FRESAL",
          "CENTRE FRUITS",
          "LA COOP BIO D'ILE DE FRANCE",
          "ACS",
          "KOTE SAVEURS",
          "LORENZI",
          "TROPIBANA",
          "MED'ESSOR FRANCE",
          "FINANCIERE DE DISTRIBUTION ALIMENTAIRE COFIDA (CIE...)",
          "FRAICHE PRIMEURS",
          "GUILLEMARD (ETS...)",
          "PIERRE BOUCHARECHAS (STE D'EXPLOITATION DES ETS...)",
          "POM DE TTHEROUANNE",
          "EDOUARD BIDAULT (ETS...)",
          "THIRION FRUITS ET LEGUMES (ETS...)",
          "ROMAPRIM",
          "SNDE STE NOUVELLE DREVIN EXOTICS",
          "MARTY FL",
          "ANAREX",
          "IMPERIAL",
          "EXCEL DISTRIBUTION",
          "PARIS EUROPE ALIMENTATION",
          "MORATAL",
          "CORBEILLES",
          "PARIS PASSION FRAIS",
          "JULBUL",
          "FRUTILAND",
          "FENES",
          "CAPOCCI",
          "MAJGICO",
          "LA TABLE DE ROLAND",
          "KS-JLG",
          "SDS - SAVEURS DU SUD",
          "DESMETTRE BIO",
          "LES VERGERS DE BOULOGNE",
          "SOFIPRIM",
          "GEDO",
          "AUX CHAMPIGNONS DES BOIS",
          "COLOM SUD",
          "LE PRIMEUR DU SQUARE",
          "CAPEXO SERVICES",
          "CAPEXO FROID",
          "O'BO MANGO",
          "DANGA EXOTIC",
          "CAPESPAN",
          "A TOUT FRUITS",
          "SECRET DU PORTUGAL 2",
          "MZ PRIMEURS",
          "AUBER PRIMEURS"
         ],
         "xaxis": "x",
         "y": [
          141014,
          98869,
          97012,
          95441,
          87421,
          86926,
          86741,
          68231,
          62193,
          54712,
          53688,
          53086,
          50151,
          47464,
          43694,
          43395,
          41958,
          37684,
          35908,
          35883,
          34480,
          33123,
          31057,
          30060,
          28831,
          27178,
          25818,
          25558,
          25526,
          24506,
          24387,
          21512,
          18759,
          18709,
          18371,
          18301,
          17986,
          17714,
          17034,
          17014,
          16909,
          16853,
          16686,
          16581,
          16544,
          15796,
          15646,
          15630,
          15459,
          15397,
          15249,
          14869,
          14597,
          14517,
          14259,
          14141,
          13940,
          13818,
          13592,
          13508,
          13451,
          13320,
          12549,
          12157,
          12117,
          12005,
          11609,
          11416,
          11395,
          11138,
          11118,
          11103,
          10976,
          10897,
          10462,
          10167,
          10082,
          10015,
          10009,
          9949,
          9775,
          9670,
          9618,
          9189,
          8755,
          8656,
          8513,
          8341,
          8165,
          7985,
          7969,
          7834,
          7729,
          7689,
          7506,
          7304,
          7292,
          6741,
          6578,
          6573,
          6402,
          6300,
          6263,
          6247,
          5916,
          5815,
          5647,
          5646,
          5353,
          5273,
          5220,
          5158,
          5102,
          5032,
          4976,
          4968,
          4959,
          4849,
          4745,
          4621,
          4420,
          4281,
          4264,
          4183,
          4061,
          4046,
          3882,
          3693,
          3648,
          3240,
          2992,
          2961,
          2957,
          2905,
          2734,
          2556,
          2285,
          2230,
          2194,
          2085,
          2011,
          1936,
          1600,
          1424,
          1401,
          1388,
          1354,
          1291,
          1143,
          1040,
          939,
          937,
          845,
          774,
          704,
          676,
          580
         ],
         "yaxis": "y"
        }
       ],
       "layout": {
        "legend": {
         "tracegroupgap": 0
        },
        "template": {
         "data": {
          "scatter": [
           {
            "type": "scatter"
           }
          ]
         }
        },
        "title": {
         "text": "chiffre d'affaire de fruits et légumes par fournisseur"
        },
        "xaxis": {
         "anchor": "y",
         "domain": [
          0,
          1
         ],
         "title": {
          "text": "RAISONSOCIALE"
         }
        },
        "yaxis": {
         "anchor": "x",
         "domain": [
          0,
          1
         ],
         "title": {
          "text": "FL"
         }
        }
       }
      },
      "text/html": [
       "<div>                            <div id=\"d518ded8-44a8-407e-a8cc-61c6565ee67a\" class=\"plotly-graph-div\" style=\"height:525px; width:100%;\"></div>            <script type=\"text/javascript\">                require([\"plotly\"], function(Plotly) {                    window.PLOTLYENV=window.PLOTLYENV || {};                                    if (document.getElementById(\"d518ded8-44a8-407e-a8cc-61c6565ee67a\")) {                    Plotly.newPlot(                        \"d518ded8-44a8-407e-a8cc-61c6565ee67a\",                        [{\"hovertemplate\": \"RAISONSOCIALE=%{x}<br>FL=%{y}<extra></extra>\", \"legendgroup\": \"\", \"marker\": {\"color\": \"#1F77B4\", \"symbol\": \"circle\"}, \"mode\": \"markers\", \"name\": \"\", \"orientation\": \"v\", \"showlegend\": false, \"type\": \"scatter\", \"x\": [\"FRUITIERE FRANCE (CIE...)\", \"GREENYARD FRESH FRANCE\", \"SIIM - STE INTERNATIONALE D'IMPORTATION\", \"VOICEVALE FRANCE\", \"FRUITS DU MONDE\", \"POM ALLIANCE\", \"GEORGES HELFER SA FRANCE\", \"POMONA IMPORT\", \"CHRONOPRIMEURS\", \"DISTRIBUTION EXPRESSE A VOCATION ALIMENTAIRE SODIEXVAL (STE DE...)\", \"CAPEXO\", \"PIERRE DESMETTRE ET FILS (ETS...)\", \"DEL MONTE FRANCE\", \"VINAS\", \"BC PRIM\", \"SPEIR - STE PARISIENNE EXPORT IMPORT REPARTITION\", \"TERRAGAIA\", \"HALLES MANDAR\", \"UNION PRIMEURS ETS LAURANCE\", \"BESSON ET ALAPONT (ETS...)\", \"BLAMPIN FRUITS IMPORT RUNGIS\", \"LA PULPE\", \"NETA\", \"GROUPE DYNAMIS\", \"JH\", \"BRATIGNY\", \"MACEO DISTRIBUTION\", \"SELECT AGRUMES\", \"COMMERCIAL FRUITS\", \"PRIERE ET ZAHLER FRERES\", \"CRUCHAUDET - GRANDJEAN\", \"BANAGRUMES\", \"FRELICOT\", \"BONABIO\", \"PVM\", \"BEVA FRUITS INTERNATIONAL\", \"BALEUX (ETS...)\", \"MONLOUP (ETS...)\", \"ROUX (ETS...)\", \"HM DISTRIBUTION\", \"PUECH MONTANA\", \"MG PRIMEURS\", \"RG FRANCE\", \"ROUSSINEAU (ETS...)\", \"CAZALIS\", \"LEBLANC ET SERRE\", \"PDM\", \"MOOREA COMMERCE FRUITS\", \"BESSON FRERES\", \"GBS\", \"DAUMESNIL PRIMEURS\", \"MIGHIRIAN FRERES\", \"BONIFACCI FRERES\", \"HALLES ORLY SUD\", \"PRIMEURS SAINT DENIS\", \"EXOTICA\", \"AMS EUROPEAN\", \"PARIS AIL\", \"AVON\", \"RAFAEL LOPEZ\", \"ELITE FRUITS\", \"EXO 3\", \"GOETZ\", \"ADM PRIMEURS\", \"MOUNEYRAC FRERES\", \"PRIMEUROPE IMPORT ET EXPORT\", \"BARNIER\", \"LLISO FRERES BANANES FRUITS PRIMEURS\", \"PRIMOUEST IMPEX\", \"EUROPLANT FRANCE\", \"COICAULT THOMAS\", \"CHAMPARIS\", \"HALLES PARIS SUD\", \"MAGELLAN\", \"SANCHO FRUITS\", \"LA POM'ROSE\", \"PRIMEUR SERVICES DISTRIBUTION\", \"AGRUBAN\", \"ASIA GROUP\", \"SOLANES (ETS...)\", \"PAUL PRIMEURS\", \"DJSMM\", \"SOLPOM\", \"MAGNIER (ETS...)\", \"OLIVER (ETS...)\", \"BIOALIZE\", \"ELQUI IMPORT\", \"LUKY FRUITS\", \"LES JARDINS D'ALBERT\", \"PROMAFRUIT\", \"PRIM'FRUIT\", \"ANDRADE DISTRIBUTION\", \"LES VERGERS CHRISTOLIENS - ETS F REBIFFE\", \"PRODISCO\", \"CAPOSUD\", \"PSL FRANCE\", \"PARIS SAVEURS\", \"PAMARTE\", \"MARTIAL DUVAL (ETS...)\", \"RIVIERA\", \"MICHELLE MAUDUIT (ETS...)\", \"JULMAT PRIMEURS\", \"PARIS SELECT\", \"LEGUERINAIS PRIMEURS\", \"ATOM APPROVISIONNEMENTS TRAFIC OUTRE MER\", \"SUN 7 FRUITS\", \"L'HARMEROULT ET CUET\", \"PE-WE\", \"FRESAL\", \"CENTRE FRUITS\", \"LA COOP BIO D'ILE DE FRANCE\", \"ACS\", \"KOTE SAVEURS\", \"LORENZI\", \"TROPIBANA\", \"MED'ESSOR FRANCE\", \"FINANCIERE DE DISTRIBUTION ALIMENTAIRE COFIDA (CIE...)\", \"FRAICHE PRIMEURS\", \"GUILLEMARD (ETS...)\", \"PIERRE BOUCHARECHAS (STE D'EXPLOITATION DES ETS...)\", \"POM DE TTHEROUANNE\", \"EDOUARD BIDAULT (ETS...)\", \"THIRION FRUITS ET LEGUMES (ETS...)\", \"ROMAPRIM\", \"SNDE STE NOUVELLE DREVIN EXOTICS\", \"MARTY FL\", \"ANAREX\", \"IMPERIAL\", \"EXCEL DISTRIBUTION\", \"PARIS EUROPE ALIMENTATION\", \"MORATAL\", \"CORBEILLES\", \"PARIS PASSION FRAIS\", \"JULBUL\", \"FRUTILAND\", \"FENES\", \"CAPOCCI\", \"MAJGICO\", \"LA TABLE DE ROLAND\", \"KS-JLG\", \"SDS - SAVEURS DU SUD\", \"DESMETTRE BIO\", \"LES VERGERS DE BOULOGNE\", \"SOFIPRIM\", \"GEDO\", \"AUX CHAMPIGNONS DES BOIS\", \"COLOM SUD\", \"LE PRIMEUR DU SQUARE\", \"CAPEXO SERVICES\", \"CAPEXO FROID\", \"O'BO MANGO\", \"DANGA EXOTIC\", \"CAPESPAN\", \"A TOUT FRUITS\", \"SECRET DU PORTUGAL 2\", \"MZ PRIMEURS\", \"AUBER PRIMEURS\"], \"xaxis\": \"x\", \"y\": [141014, 98869, 97012, 95441, 87421, 86926, 86741, 68231, 62193, 54712, 53688, 53086, 50151, 47464, 43694, 43395, 41958, 37684, 35908, 35883, 34480, 33123, 31057, 30060, 28831, 27178, 25818, 25558, 25526, 24506, 24387, 21512, 18759, 18709, 18371, 18301, 17986, 17714, 17034, 17014, 16909, 16853, 16686, 16581, 16544, 15796, 15646, 15630, 15459, 15397, 15249, 14869, 14597, 14517, 14259, 14141, 13940, 13818, 13592, 13508, 13451, 13320, 12549, 12157, 12117, 12005, 11609, 11416, 11395, 11138, 11118, 11103, 10976, 10897, 10462, 10167, 10082, 10015, 10009, 9949, 9775, 9670, 9618, 9189, 8755, 8656, 8513, 8341, 8165, 7985, 7969, 7834, 7729, 7689, 7506, 7304, 7292, 6741, 6578, 6573, 6402, 6300, 6263, 6247, 5916, 5815, 5647, 5646, 5353, 5273, 5220, 5158, 5102, 5032, 4976, 4968, 4959, 4849, 4745, 4621, 4420, 4281, 4264, 4183, 4061, 4046, 3882, 3693, 3648, 3240, 2992, 2961, 2957, 2905, 2734, 2556, 2285, 2230, 2194, 2085, 2011, 1936, 1600, 1424, 1401, 1388, 1354, 1291, 1143, 1040, 939, 937, 845, 774, 704, 676, 580], \"yaxis\": \"y\"}],                        {\"legend\": {\"tracegroupgap\": 0}, \"template\": {\"data\": {\"scatter\": [{\"type\": \"scatter\"}]}}, \"title\": {\"text\": \"chiffre d'affaire de fruits et l\\u00e9gumes par fournisseur\"}, \"xaxis\": {\"anchor\": \"y\", \"domain\": [0.0, 1.0], \"title\": {\"text\": \"RAISONSOCIALE\"}}, \"yaxis\": {\"anchor\": \"x\", \"domain\": [0.0, 1.0], \"title\": {\"text\": \"FL\"}}},                        {\"responsive\": true}                    ).then(function(){\n",
       "                            \n",
       "var gd = document.getElementById('d518ded8-44a8-407e-a8cc-61c6565ee67a');\n",
       "var x = new MutationObserver(function (mutations, observer) {{\n",
       "        var display = window.getComputedStyle(gd).display;\n",
       "        if (!display || display === 'none') {{\n",
       "            console.log([gd, 'removed!']);\n",
       "            Plotly.purge(gd);\n",
       "            observer.disconnect();\n",
       "        }}\n",
       "}});\n",
       "\n",
       "// Listen for the removal of the full notebook cells\n",
       "var notebookContainer = gd.closest('#notebook-container');\n",
       "if (notebookContainer) {{\n",
       "    x.observe(notebookContainer, {childList: true});\n",
       "}}\n",
       "\n",
       "// Listen for the clearing of the current output cell\n",
       "var outputEl = gd.closest('.output');\n",
       "if (outputEl) {{\n",
       "    x.observe(outputEl, {childList: true});\n",
       "}}\n",
       "\n",
       "                        })                };                });            </script>        </div>"
      ]
     },
     "metadata": {},
     "output_type": "display_data"
    }
   ],
   "source": [
    "fig = px.scatter(data, x = 'RAISONSOCIALE', y= 'FL',title=\"chiffre d'affaire de fruits et légumes par fournisseur\")\n",
    "fig\n",
    "\n",
    "#FRUITIERE FRANCE est le premier fournisseur en fruits et légumes"
   ]
  },
  {
   "cell_type": "markdown",
   "metadata": {},
   "source": [
    "Sunburst ChartS : Chiffre d'aiffaire des fournisseurs par ville "
   ]
  },
  {
   "cell_type": "code",
   "execution_count": 81,
   "metadata": {},
   "outputs": [
    {
     "data": {
      "application/vnd.plotly.v1+json": {
       "config": {
        "plotlyServerURL": "https://plot.ly"
       },
       "data": [
        {
         "branchvalues": "total",
         "domain": {
          "x": [
           0,
           1
          ],
          "y": [
           0,
           1
          ]
         },
         "hovertemplate": "labels=%{label}<br>FL=%{value}<br>parent=%{parent}<br>id=%{id}<extra></extra>",
         "ids": [
          "NEUILLY PLAISANCE/A TOUT FRUITS",
          "TRILPORT/ACS",
          "CHEVILLY LARUE/ADM PRIMEURS",
          "CHEVILLY LARUE/AGRUBAN",
          "CHEVILLY LARUE/AMS EUROPEAN",
          "CHEVILLY LARUE/ANAREX",
          "CHEVILLY LARUE/ANDRADE DISTRIBUTION",
          "CHEVILLY LARUE/ASIA GROUP",
          "CHEVILLY LARUE/ATOM APPROVISIONNEMENTS TRAFIC OUTRE MER",
          "AUBERVILLIERS/AUBER PRIMEURS",
          "CHEVILLY LARUE/AUX CHAMPIGNONS DES BOIS",
          "ANTONY/AVON",
          "CHEVILLY LARUE/BALEUX (ETS...)",
          "CHEVILLY LARUE/BANAGRUMES",
          "CHEVILLY LARUE/BARNIER",
          "CHEVILLY LARUE/BC PRIM",
          "CHEVILLY LARUE/BESSON ET ALAPONT (ETS...)",
          "CHEVILLY LARUE/BESSON FRERES",
          "CHEVILLY LARUE/BEVA FRUITS INTERNATIONAL",
          "RUNGIS/BIOALIZE",
          "CHEVILLY LARUE/BLAMPIN FRUITS IMPORT RUNGIS",
          "CHEVILLY LARUE/BONABIO",
          "CHEVILLY LARUE/BONIFACCI FRERES",
          "CHEVILLY LARUE/BRATIGNY",
          "PARIS/CAPESPAN",
          "CHEVILLY LARUE/CAPEXO",
          "CHEVILLY LARUE/CAPEXO FROID",
          "CHEVILLY LARUE/CAPEXO SERVICES",
          "VERSAILLES/CAPOCCI",
          "CHEVILLY LARUE/CAPOSUD",
          "CHEVILLY LARUE/CAZALIS",
          "CHEVILLY LARUE/CENTRE FRUITS",
          "CHEVILLY LARUE/CHAMPARIS",
          "CHEVILLY LARUE/CHRONOPRIMEURS",
          "CHEVILLY LARUE/COICAULT THOMAS",
          "NEUILLY SUR SEINE/COLOM SUD",
          "RUNGIS/COMMERCIAL FRUITS",
          "BEZONS/CORBEILLES",
          "CHEVILLY LARUE/CRUCHAUDET - GRANDJEAN",
          "CHEVILLY LARUE/DANGA EXOTIC",
          "CHEVILLY LARUE/DAUMESNIL PRIMEURS",
          "CHEVILLY LARUE/DEL MONTE FRANCE",
          "CHEVILLY LARUE/DESMETTRE BIO",
          "CHEVILLY LARUE/DISTRIBUTION EXPRESSE A VOCATION ALIMENTAIRE SODIEXVAL (STE DE...)",
          "CHEVILLY LARUE/DJSMM",
          "CHEVILLY LARUE/EDOUARD BIDAULT (ETS...)",
          "CHEVILLY LARUE/ELITE FRUITS",
          "CHEVILLY LARUE/ELQUI IMPORT",
          "PARIS/EUROPLANT FRANCE",
          "CHEVILLY LARUE/EXCEL DISTRIBUTION",
          "CHEVILLY LARUE/EXO 3",
          "CHEVILLY LARUE/EXOTICA",
          "CHEVILLY LARUE/FENES",
          "CHEVILLY LARUE/FINANCIERE DE DISTRIBUTION ALIMENTAIRE COFIDA (CIE...)",
          "RUNGIS/FRAICHE PRIMEURS",
          "CHEVILLY LARUE/FRELICOT",
          "CHEVILLY LARUE/FRESAL",
          "RUNGIS/FRUITIERE FRANCE (CIE...)",
          "CHEVILLY LARUE/FRUITS DU MONDE",
          "CHEVILLY LARUE/FRUTILAND",
          "CHEVILLY LARUE/GBS",
          "CLICHY/GEDO",
          "RUNGIS/GEORGES HELFER SA FRANCE",
          "SAULX LES CHARTREUX/GOETZ",
          "RUNGIS/GREENYARD FRESH FRANCE",
          "RUNGIS/GROUPE DYNAMIS",
          "CHEVILLY LARUE/GUILLEMARD (ETS...)",
          "CHEVILLY LARUE/HALLES MANDAR",
          "CHEVILLY LARUE/HALLES ORLY SUD",
          "RUNGIS/HALLES PARIS SUD",
          "CHEVILLY LARUE/HM DISTRIBUTION",
          "CHEVILLY LARUE/IMPERIAL",
          "CHEVILLY LARUE/JH",
          "PARIS/JULBUL",
          "CHEVILLY LARUE/JULMAT PRIMEURS",
          "CHEVILLY LARUE/KOTE SAVEURS",
          "PARIS/KS-JLG",
          "CHEVILLY LARUE/L'HARMEROULT ET CUET",
          "CHATENOY/LA COOP BIO D'ILE DE FRANCE",
          "CHEVILLY LARUE/LA POM'ROSE",
          "PARIS/LA PULPE",
          "CHEVILLY LARUE/LA TABLE DE ROLAND",
          "ST DENIS/LE PRIMEUR DU SQUARE",
          "CHEVILLY LARUE/LEBLANC ET SERRE",
          "CHEVILLY LARUE/LEGUERINAIS PRIMEURS",
          "CHEVILLY LARUE/LES JARDINS D'ALBERT",
          "CHEVILLY LARUE/LES VERGERS CHRISTOLIENS - ETS F REBIFFE",
          "RUNGIS/LES VERGERS DE BOULOGNE",
          "CHEVILLY LARUE/LLISO FRERES BANANES FRUITS PRIMEURS",
          "AVRAINVILLE/LORENZI",
          "CHEVILLY LARUE/LUKY FRUITS",
          "CHEVILLY LARUE/MACEO DISTRIBUTION",
          "RUNGIS/MAGELLAN",
          "CHEVILLY LARUE/MAGNIER (ETS...)",
          "IVRY SUR SEINE/MAJGICO",
          "BUC/MARTIAL DUVAL (ETS...)",
          "CHAILLY EN BIERE/MARTY FL",
          "CHEVILLY LARUE/MED'ESSOR FRANCE",
          "CHEVILLY LARUE/MG PRIMEURS",
          "CHEVILLY LARUE/MICHELLE MAUDUIT (ETS...)",
          "CHEVILLY LARUE/MIGHIRIAN FRERES",
          "CHEVILLY LARUE/MONLOUP (ETS...)",
          "CHEVILLY LARUE/MOOREA COMMERCE FRUITS",
          "CHEVILLY LARUE/MORATAL",
          "CHEVILLY LARUE/MOUNEYRAC FRERES",
          "LEVALLOIS PERRET/MZ PRIMEURS",
          "CHEVILLY LARUE/NETA",
          "ST ARNOULT EN YVELINES/O'BO MANGO",
          "CHEVILLY LARUE/OLIVER (ETS...)",
          "CHEVILLY LARUE/PAMARTE",
          "CHEVILLY LARUE/PARIS AIL",
          "PARIS/PARIS EUROPE ALIMENTATION",
          "RUNGIS/PARIS PASSION FRAIS",
          "CHEVILLY LARUE/PARIS SAVEURS",
          "CHEVILLY LARUE/PARIS SELECT",
          "CHEVILLY LARUE/PAUL PRIMEURS",
          "CHEVILLY LARUE/PDM",
          "CHEVILLY LARUE/PE-WE",
          "BUC/PIERRE BOUCHARECHAS (STE D'EXPLOITATION DES ETS...)",
          "CHEVILLY LARUE/PIERRE DESMETTRE ET FILS (ETS...)",
          "ORLY/POM ALLIANCE",
          "OISSERY/POM DE TTHEROUANNE",
          "ANTONY/POMONA IMPORT",
          "CHEVILLY LARUE/PRIERE ET ZAHLER FRERES",
          "RUNGIS/PRIM'FRUIT",
          "CHEVILLY LARUE/PRIMEUR SERVICES DISTRIBUTION",
          "CHEVILLY LARUE/PRIMEUROPE IMPORT ET EXPORT",
          "CHEVILLY LARUE/PRIMEURS SAINT DENIS",
          "CHEVILLY LARUE/PRIMOUEST IMPEX",
          "RUNGIS/PRODISCO",
          "RUNGIS/PROMAFRUIT",
          "CHEVILLY LARUE/PSL FRANCE",
          "CHEVILLY LARUE/PUECH MONTANA",
          "MERE/PVM",
          "CHEVILLY LARUE/RAFAEL LOPEZ",
          "RUNGIS/RG FRANCE",
          "CHEVILLY LARUE/RIVIERA",
          "CHEVILLY LARUE/ROMAPRIM",
          "PARIS/ROUSSINEAU (ETS...)",
          "CHEVILLY LARUE/ROUX (ETS...)",
          "CHEVILLY LARUE/SANCHO FRUITS",
          "GENNEVILLIERS/SDS - SAVEURS DU SUD",
          "MEAUX/SECRET DU PORTUGAL 2",
          "CHEVILLY LARUE/SELECT AGRUMES",
          "RUNGIS/SIIM - STE INTERNATIONALE D'IMPORTATION",
          "CHEVILLY LARUE/SNDE STE NOUVELLE DREVIN EXOTICS",
          "CHEVILLY LARUE/SOFIPRIM",
          "CHEVILLY LARUE/SOLANES (ETS...)",
          "ORLY/SOLPOM",
          "CHEVILLY LARUE/SPEIR - STE PARISIENNE EXPORT IMPORT REPARTITION",
          "RUNGIS/SUN 7 FRUITS",
          "ANTONY/TERRAGAIA",
          "CHEVILLY LARUE/THIRION FRUITS ET LEGUMES (ETS...)",
          "CHEVILLY LARUE/TROPIBANA",
          "LISSES/UNION PRIMEURS ETS LAURANCE",
          "CHEVILLY LARUE/VINAS",
          "PARIS/VOICEVALE FRANCE",
          "ANTONY",
          "AUBERVILLIERS",
          "AVRAINVILLE",
          "BEZONS",
          "BUC",
          "CHAILLY EN BIERE",
          "CHATENOY",
          "CHEVILLY LARUE",
          "CLICHY",
          "GENNEVILLIERS",
          "IVRY SUR SEINE",
          "LEVALLOIS PERRET",
          "LISSES",
          "MEAUX",
          "MERE",
          "NEUILLY PLAISANCE",
          "NEUILLY SUR SEINE",
          "OISSERY",
          "ORLY",
          "PARIS",
          "RUNGIS",
          "SAULX LES CHARTREUX",
          "ST ARNOULT EN YVELINES",
          "ST DENIS",
          "TRILPORT",
          "VERSAILLES"
         ],
         "labels": [
          "A TOUT FRUITS",
          "ACS",
          "ADM PRIMEURS",
          "AGRUBAN",
          "AMS EUROPEAN",
          "ANAREX",
          "ANDRADE DISTRIBUTION",
          "ASIA GROUP",
          "ATOM APPROVISIONNEMENTS TRAFIC OUTRE MER",
          "AUBER PRIMEURS",
          "AUX CHAMPIGNONS DES BOIS",
          "AVON",
          "BALEUX (ETS...)",
          "BANAGRUMES",
          "BARNIER",
          "BC PRIM",
          "BESSON ET ALAPONT (ETS...)",
          "BESSON FRERES",
          "BEVA FRUITS INTERNATIONAL",
          "BIOALIZE",
          "BLAMPIN FRUITS IMPORT RUNGIS",
          "BONABIO",
          "BONIFACCI FRERES",
          "BRATIGNY",
          "CAPESPAN",
          "CAPEXO",
          "CAPEXO FROID",
          "CAPEXO SERVICES",
          "CAPOCCI",
          "CAPOSUD",
          "CAZALIS",
          "CENTRE FRUITS",
          "CHAMPARIS",
          "CHRONOPRIMEURS",
          "COICAULT THOMAS",
          "COLOM SUD",
          "COMMERCIAL FRUITS",
          "CORBEILLES",
          "CRUCHAUDET - GRANDJEAN",
          "DANGA EXOTIC",
          "DAUMESNIL PRIMEURS",
          "DEL MONTE FRANCE",
          "DESMETTRE BIO",
          "DISTRIBUTION EXPRESSE A VOCATION ALIMENTAIRE SODIEXVAL (STE DE...)",
          "DJSMM",
          "EDOUARD BIDAULT (ETS...)",
          "ELITE FRUITS",
          "ELQUI IMPORT",
          "EUROPLANT FRANCE",
          "EXCEL DISTRIBUTION",
          "EXO 3",
          "EXOTICA",
          "FENES",
          "FINANCIERE DE DISTRIBUTION ALIMENTAIRE COFIDA (CIE...)",
          "FRAICHE PRIMEURS",
          "FRELICOT",
          "FRESAL",
          "FRUITIERE FRANCE (CIE...)",
          "FRUITS DU MONDE",
          "FRUTILAND",
          "GBS",
          "GEDO",
          "GEORGES HELFER SA FRANCE",
          "GOETZ",
          "GREENYARD FRESH FRANCE",
          "GROUPE DYNAMIS",
          "GUILLEMARD (ETS...)",
          "HALLES MANDAR",
          "HALLES ORLY SUD",
          "HALLES PARIS SUD",
          "HM DISTRIBUTION",
          "IMPERIAL",
          "JH",
          "JULBUL",
          "JULMAT PRIMEURS",
          "KOTE SAVEURS",
          "KS-JLG",
          "L'HARMEROULT ET CUET",
          "LA COOP BIO D'ILE DE FRANCE",
          "LA POM'ROSE",
          "LA PULPE",
          "LA TABLE DE ROLAND",
          "LE PRIMEUR DU SQUARE",
          "LEBLANC ET SERRE",
          "LEGUERINAIS PRIMEURS",
          "LES JARDINS D'ALBERT",
          "LES VERGERS CHRISTOLIENS - ETS F REBIFFE",
          "LES VERGERS DE BOULOGNE",
          "LLISO FRERES BANANES FRUITS PRIMEURS",
          "LORENZI",
          "LUKY FRUITS",
          "MACEO DISTRIBUTION",
          "MAGELLAN",
          "MAGNIER (ETS...)",
          "MAJGICO",
          "MARTIAL DUVAL (ETS...)",
          "MARTY FL",
          "MED'ESSOR FRANCE",
          "MG PRIMEURS",
          "MICHELLE MAUDUIT (ETS...)",
          "MIGHIRIAN FRERES",
          "MONLOUP (ETS...)",
          "MOOREA COMMERCE FRUITS",
          "MORATAL",
          "MOUNEYRAC FRERES",
          "MZ PRIMEURS",
          "NETA",
          "O'BO MANGO",
          "OLIVER (ETS...)",
          "PAMARTE",
          "PARIS AIL",
          "PARIS EUROPE ALIMENTATION",
          "PARIS PASSION FRAIS",
          "PARIS SAVEURS",
          "PARIS SELECT",
          "PAUL PRIMEURS",
          "PDM",
          "PE-WE",
          "PIERRE BOUCHARECHAS (STE D'EXPLOITATION DES ETS...)",
          "PIERRE DESMETTRE ET FILS (ETS...)",
          "POM ALLIANCE",
          "POM DE TTHEROUANNE",
          "POMONA IMPORT",
          "PRIERE ET ZAHLER FRERES",
          "PRIM'FRUIT",
          "PRIMEUR SERVICES DISTRIBUTION",
          "PRIMEUROPE IMPORT ET EXPORT",
          "PRIMEURS SAINT DENIS",
          "PRIMOUEST IMPEX",
          "PRODISCO",
          "PROMAFRUIT",
          "PSL FRANCE",
          "PUECH MONTANA",
          "PVM",
          "RAFAEL LOPEZ",
          "RG FRANCE",
          "RIVIERA",
          "ROMAPRIM",
          "ROUSSINEAU (ETS...)",
          "ROUX (ETS...)",
          "SANCHO FRUITS",
          "SDS - SAVEURS DU SUD",
          "SECRET DU PORTUGAL 2",
          "SELECT AGRUMES",
          "SIIM - STE INTERNATIONALE D'IMPORTATION",
          "SNDE STE NOUVELLE DREVIN EXOTICS",
          "SOFIPRIM",
          "SOLANES (ETS...)",
          "SOLPOM",
          "SPEIR - STE PARISIENNE EXPORT IMPORT REPARTITION",
          "SUN 7 FRUITS",
          "TERRAGAIA",
          "THIRION FRUITS ET LEGUMES (ETS...)",
          "TROPIBANA",
          "UNION PRIMEURS ETS LAURANCE",
          "VINAS",
          "VOICEVALE FRANCE",
          "ANTONY",
          "AUBERVILLIERS",
          "AVRAINVILLE",
          "BEZONS",
          "BUC",
          "CHAILLY EN BIERE",
          "CHATENOY",
          "CHEVILLY LARUE",
          "CLICHY",
          "GENNEVILLIERS",
          "IVRY SUR SEINE",
          "LEVALLOIS PERRET",
          "LISSES",
          "MEAUX",
          "MERE",
          "NEUILLY PLAISANCE",
          "NEUILLY SUR SEINE",
          "OISSERY",
          "ORLY",
          "PARIS",
          "RUNGIS",
          "SAULX LES CHARTREUX",
          "ST ARNOULT EN YVELINES",
          "ST DENIS",
          "TRILPORT",
          "VERSAILLES"
         ],
         "name": "",
         "parents": [
          "NEUILLY PLAISANCE",
          "TRILPORT",
          "CHEVILLY LARUE",
          "CHEVILLY LARUE",
          "CHEVILLY LARUE",
          "CHEVILLY LARUE",
          "CHEVILLY LARUE",
          "CHEVILLY LARUE",
          "CHEVILLY LARUE",
          "AUBERVILLIERS",
          "CHEVILLY LARUE",
          "ANTONY",
          "CHEVILLY LARUE",
          "CHEVILLY LARUE",
          "CHEVILLY LARUE",
          "CHEVILLY LARUE",
          "CHEVILLY LARUE",
          "CHEVILLY LARUE",
          "CHEVILLY LARUE",
          "RUNGIS",
          "CHEVILLY LARUE",
          "CHEVILLY LARUE",
          "CHEVILLY LARUE",
          "CHEVILLY LARUE",
          "PARIS",
          "CHEVILLY LARUE",
          "CHEVILLY LARUE",
          "CHEVILLY LARUE",
          "VERSAILLES",
          "CHEVILLY LARUE",
          "CHEVILLY LARUE",
          "CHEVILLY LARUE",
          "CHEVILLY LARUE",
          "CHEVILLY LARUE",
          "CHEVILLY LARUE",
          "NEUILLY SUR SEINE",
          "RUNGIS",
          "BEZONS",
          "CHEVILLY LARUE",
          "CHEVILLY LARUE",
          "CHEVILLY LARUE",
          "CHEVILLY LARUE",
          "CHEVILLY LARUE",
          "CHEVILLY LARUE",
          "CHEVILLY LARUE",
          "CHEVILLY LARUE",
          "CHEVILLY LARUE",
          "CHEVILLY LARUE",
          "PARIS",
          "CHEVILLY LARUE",
          "CHEVILLY LARUE",
          "CHEVILLY LARUE",
          "CHEVILLY LARUE",
          "CHEVILLY LARUE",
          "RUNGIS",
          "CHEVILLY LARUE",
          "CHEVILLY LARUE",
          "RUNGIS",
          "CHEVILLY LARUE",
          "CHEVILLY LARUE",
          "CHEVILLY LARUE",
          "CLICHY",
          "RUNGIS",
          "SAULX LES CHARTREUX",
          "RUNGIS",
          "RUNGIS",
          "CHEVILLY LARUE",
          "CHEVILLY LARUE",
          "CHEVILLY LARUE",
          "RUNGIS",
          "CHEVILLY LARUE",
          "CHEVILLY LARUE",
          "CHEVILLY LARUE",
          "PARIS",
          "CHEVILLY LARUE",
          "CHEVILLY LARUE",
          "PARIS",
          "CHEVILLY LARUE",
          "CHATENOY",
          "CHEVILLY LARUE",
          "PARIS",
          "CHEVILLY LARUE",
          "ST DENIS",
          "CHEVILLY LARUE",
          "CHEVILLY LARUE",
          "CHEVILLY LARUE",
          "CHEVILLY LARUE",
          "RUNGIS",
          "CHEVILLY LARUE",
          "AVRAINVILLE",
          "CHEVILLY LARUE",
          "CHEVILLY LARUE",
          "RUNGIS",
          "CHEVILLY LARUE",
          "IVRY SUR SEINE",
          "BUC",
          "CHAILLY EN BIERE",
          "CHEVILLY LARUE",
          "CHEVILLY LARUE",
          "CHEVILLY LARUE",
          "CHEVILLY LARUE",
          "CHEVILLY LARUE",
          "CHEVILLY LARUE",
          "CHEVILLY LARUE",
          "CHEVILLY LARUE",
          "LEVALLOIS PERRET",
          "CHEVILLY LARUE",
          "ST ARNOULT EN YVELINES",
          "CHEVILLY LARUE",
          "CHEVILLY LARUE",
          "CHEVILLY LARUE",
          "PARIS",
          "RUNGIS",
          "CHEVILLY LARUE",
          "CHEVILLY LARUE",
          "CHEVILLY LARUE",
          "CHEVILLY LARUE",
          "CHEVILLY LARUE",
          "BUC",
          "CHEVILLY LARUE",
          "ORLY",
          "OISSERY",
          "ANTONY",
          "CHEVILLY LARUE",
          "RUNGIS",
          "CHEVILLY LARUE",
          "CHEVILLY LARUE",
          "CHEVILLY LARUE",
          "CHEVILLY LARUE",
          "RUNGIS",
          "RUNGIS",
          "CHEVILLY LARUE",
          "CHEVILLY LARUE",
          "MERE",
          "CHEVILLY LARUE",
          "RUNGIS",
          "CHEVILLY LARUE",
          "CHEVILLY LARUE",
          "PARIS",
          "CHEVILLY LARUE",
          "CHEVILLY LARUE",
          "GENNEVILLIERS",
          "MEAUX",
          "CHEVILLY LARUE",
          "RUNGIS",
          "CHEVILLY LARUE",
          "CHEVILLY LARUE",
          "CHEVILLY LARUE",
          "ORLY",
          "CHEVILLY LARUE",
          "RUNGIS",
          "ANTONY",
          "CHEVILLY LARUE",
          "CHEVILLY LARUE",
          "LISSES",
          "CHEVILLY LARUE",
          "PARIS",
          "",
          "",
          "",
          "",
          "",
          "",
          "",
          "",
          "",
          "",
          "",
          "",
          "",
          "",
          "",
          "",
          "",
          "",
          "",
          "",
          "",
          "",
          "",
          "",
          "",
          ""
         ],
         "type": "sunburst",
         "values": [
          774,
          5158,
          12157,
          10015,
          13940,
          3882,
          7834,
          10009,
          5916,
          580,
          1388,
          13592,
          17986,
          21512,
          11609,
          43694,
          35883,
          15459,
          18301,
          8656,
          34480,
          18709,
          14597,
          27178,
          845,
          53688,
          1040,
          1143,
          2285,
          7506,
          16544,
          5273,
          11103,
          62193,
          11118,
          1354,
          25526,
          2961,
          24387,
          937,
          15249,
          50151,
          1936,
          54712,
          9670,
          4281,
          13451,
          8513,
          11138,
          3648,
          13320,
          14141,
          2556,
          4959,
          4849,
          18759,
          5353,
          141014,
          87421,
          2734,
          15397,
          1401,
          86741,
          12549,
          98869,
          30060,
          4745,
          37684,
          14517,
          10976,
          17014,
          3693,
          28831,
          2905,
          6300,
          5102,
          2085,
          5647,
          5220,
          10167,
          33123,
          2194,
          1291,
          15796,
          6247,
          8165,
          7729,
          1600,
          11416,
          5032,
          8341,
          25818,
          10897,
          9189,
          2230,
          6578,
          4046,
          4968,
          16853,
          6402,
          14869,
          17714,
          15630,
          2992,
          12117,
          676,
          31057,
          939,
          8755,
          6741,
          13818,
          3240,
          2957,
          7292,
          6263,
          9775,
          15646,
          5646,
          4621,
          53086,
          86926,
          4420,
          68231,
          24506,
          7969,
          10082,
          12005,
          14259,
          11395,
          7689,
          7985,
          7304,
          16909,
          18371,
          13508,
          16686,
          6573,
          4183,
          16581,
          17034,
          10462,
          2011,
          704,
          25558,
          97012,
          4061,
          1424,
          9949,
          9618,
          43395,
          5815,
          41958,
          4264,
          4976,
          35908,
          47464,
          95441,
          123781,
          580,
          5032,
          2961,
          11199,
          4046,
          5220,
          1613262,
          1401,
          2011,
          2230,
          676,
          35908,
          704,
          18371,
          774,
          1354,
          4420,
          96544,
          165358,
          565301,
          12549,
          939,
          1291,
          5158,
          2285
         ]
        }
       ],
       "layout": {
        "legend": {
         "tracegroupgap": 0
        },
        "margin": {
         "b": 0,
         "l": 0,
         "r": 0,
         "t": 0
        },
        "template": {
         "data": {
          "scatter": [
           {
            "type": "scatter"
           }
          ]
         }
        }
       }
      },
      "text/html": [
       "<div>                            <div id=\"defa86a2-393e-4f05-94e0-f9ffc4fc16df\" class=\"plotly-graph-div\" style=\"height:525px; width:100%;\"></div>            <script type=\"text/javascript\">                require([\"plotly\"], function(Plotly) {                    window.PLOTLYENV=window.PLOTLYENV || {};                                    if (document.getElementById(\"defa86a2-393e-4f05-94e0-f9ffc4fc16df\")) {                    Plotly.newPlot(                        \"defa86a2-393e-4f05-94e0-f9ffc4fc16df\",                        [{\"branchvalues\": \"total\", \"domain\": {\"x\": [0.0, 1.0], \"y\": [0.0, 1.0]}, \"hovertemplate\": \"labels=%{label}<br>FL=%{value}<br>parent=%{parent}<br>id=%{id}<extra></extra>\", \"ids\": [\"NEUILLY PLAISANCE/A TOUT FRUITS\", \"TRILPORT/ACS\", \"CHEVILLY LARUE/ADM PRIMEURS\", \"CHEVILLY LARUE/AGRUBAN\", \"CHEVILLY LARUE/AMS EUROPEAN\", \"CHEVILLY LARUE/ANAREX\", \"CHEVILLY LARUE/ANDRADE DISTRIBUTION\", \"CHEVILLY LARUE/ASIA GROUP\", \"CHEVILLY LARUE/ATOM APPROVISIONNEMENTS TRAFIC OUTRE MER\", \"AUBERVILLIERS/AUBER PRIMEURS\", \"CHEVILLY LARUE/AUX CHAMPIGNONS DES BOIS\", \"ANTONY/AVON\", \"CHEVILLY LARUE/BALEUX (ETS...)\", \"CHEVILLY LARUE/BANAGRUMES\", \"CHEVILLY LARUE/BARNIER\", \"CHEVILLY LARUE/BC PRIM\", \"CHEVILLY LARUE/BESSON ET ALAPONT (ETS...)\", \"CHEVILLY LARUE/BESSON FRERES\", \"CHEVILLY LARUE/BEVA FRUITS INTERNATIONAL\", \"RUNGIS/BIOALIZE\", \"CHEVILLY LARUE/BLAMPIN FRUITS IMPORT RUNGIS\", \"CHEVILLY LARUE/BONABIO\", \"CHEVILLY LARUE/BONIFACCI FRERES\", \"CHEVILLY LARUE/BRATIGNY\", \"PARIS/CAPESPAN\", \"CHEVILLY LARUE/CAPEXO\", \"CHEVILLY LARUE/CAPEXO FROID\", \"CHEVILLY LARUE/CAPEXO SERVICES\", \"VERSAILLES/CAPOCCI\", \"CHEVILLY LARUE/CAPOSUD\", \"CHEVILLY LARUE/CAZALIS\", \"CHEVILLY LARUE/CENTRE FRUITS\", \"CHEVILLY LARUE/CHAMPARIS\", \"CHEVILLY LARUE/CHRONOPRIMEURS\", \"CHEVILLY LARUE/COICAULT THOMAS\", \"NEUILLY SUR SEINE/COLOM SUD\", \"RUNGIS/COMMERCIAL FRUITS\", \"BEZONS/CORBEILLES\", \"CHEVILLY LARUE/CRUCHAUDET - GRANDJEAN\", \"CHEVILLY LARUE/DANGA EXOTIC\", \"CHEVILLY LARUE/DAUMESNIL PRIMEURS\", \"CHEVILLY LARUE/DEL MONTE FRANCE\", \"CHEVILLY LARUE/DESMETTRE BIO\", \"CHEVILLY LARUE/DISTRIBUTION EXPRESSE A VOCATION ALIMENTAIRE SODIEXVAL (STE DE...)\", \"CHEVILLY LARUE/DJSMM\", \"CHEVILLY LARUE/EDOUARD BIDAULT (ETS...)\", \"CHEVILLY LARUE/ELITE FRUITS\", \"CHEVILLY LARUE/ELQUI IMPORT\", \"PARIS/EUROPLANT FRANCE\", \"CHEVILLY LARUE/EXCEL DISTRIBUTION\", \"CHEVILLY LARUE/EXO 3\", \"CHEVILLY LARUE/EXOTICA\", \"CHEVILLY LARUE/FENES\", \"CHEVILLY LARUE/FINANCIERE DE DISTRIBUTION ALIMENTAIRE COFIDA (CIE...)\", \"RUNGIS/FRAICHE PRIMEURS\", \"CHEVILLY LARUE/FRELICOT\", \"CHEVILLY LARUE/FRESAL\", \"RUNGIS/FRUITIERE FRANCE (CIE...)\", \"CHEVILLY LARUE/FRUITS DU MONDE\", \"CHEVILLY LARUE/FRUTILAND\", \"CHEVILLY LARUE/GBS\", \"CLICHY/GEDO\", \"RUNGIS/GEORGES HELFER SA FRANCE\", \"SAULX LES CHARTREUX/GOETZ\", \"RUNGIS/GREENYARD FRESH FRANCE\", \"RUNGIS/GROUPE DYNAMIS\", \"CHEVILLY LARUE/GUILLEMARD (ETS...)\", \"CHEVILLY LARUE/HALLES MANDAR\", \"CHEVILLY LARUE/HALLES ORLY SUD\", \"RUNGIS/HALLES PARIS SUD\", \"CHEVILLY LARUE/HM DISTRIBUTION\", \"CHEVILLY LARUE/IMPERIAL\", \"CHEVILLY LARUE/JH\", \"PARIS/JULBUL\", \"CHEVILLY LARUE/JULMAT PRIMEURS\", \"CHEVILLY LARUE/KOTE SAVEURS\", \"PARIS/KS-JLG\", \"CHEVILLY LARUE/L'HARMEROULT ET CUET\", \"CHATENOY/LA COOP BIO D'ILE DE FRANCE\", \"CHEVILLY LARUE/LA POM'ROSE\", \"PARIS/LA PULPE\", \"CHEVILLY LARUE/LA TABLE DE ROLAND\", \"ST DENIS/LE PRIMEUR DU SQUARE\", \"CHEVILLY LARUE/LEBLANC ET SERRE\", \"CHEVILLY LARUE/LEGUERINAIS PRIMEURS\", \"CHEVILLY LARUE/LES JARDINS D'ALBERT\", \"CHEVILLY LARUE/LES VERGERS CHRISTOLIENS - ETS F REBIFFE\", \"RUNGIS/LES VERGERS DE BOULOGNE\", \"CHEVILLY LARUE/LLISO FRERES BANANES FRUITS PRIMEURS\", \"AVRAINVILLE/LORENZI\", \"CHEVILLY LARUE/LUKY FRUITS\", \"CHEVILLY LARUE/MACEO DISTRIBUTION\", \"RUNGIS/MAGELLAN\", \"CHEVILLY LARUE/MAGNIER (ETS...)\", \"IVRY SUR SEINE/MAJGICO\", \"BUC/MARTIAL DUVAL (ETS...)\", \"CHAILLY EN BIERE/MARTY FL\", \"CHEVILLY LARUE/MED'ESSOR FRANCE\", \"CHEVILLY LARUE/MG PRIMEURS\", \"CHEVILLY LARUE/MICHELLE MAUDUIT (ETS...)\", \"CHEVILLY LARUE/MIGHIRIAN FRERES\", \"CHEVILLY LARUE/MONLOUP (ETS...)\", \"CHEVILLY LARUE/MOOREA COMMERCE FRUITS\", \"CHEVILLY LARUE/MORATAL\", \"CHEVILLY LARUE/MOUNEYRAC FRERES\", \"LEVALLOIS PERRET/MZ PRIMEURS\", \"CHEVILLY LARUE/NETA\", \"ST ARNOULT EN YVELINES/O'BO MANGO\", \"CHEVILLY LARUE/OLIVER (ETS...)\", \"CHEVILLY LARUE/PAMARTE\", \"CHEVILLY LARUE/PARIS AIL\", \"PARIS/PARIS EUROPE ALIMENTATION\", \"RUNGIS/PARIS PASSION FRAIS\", \"CHEVILLY LARUE/PARIS SAVEURS\", \"CHEVILLY LARUE/PARIS SELECT\", \"CHEVILLY LARUE/PAUL PRIMEURS\", \"CHEVILLY LARUE/PDM\", \"CHEVILLY LARUE/PE-WE\", \"BUC/PIERRE BOUCHARECHAS (STE D'EXPLOITATION DES ETS...)\", \"CHEVILLY LARUE/PIERRE DESMETTRE ET FILS (ETS...)\", \"ORLY/POM ALLIANCE\", \"OISSERY/POM DE TTHEROUANNE\", \"ANTONY/POMONA IMPORT\", \"CHEVILLY LARUE/PRIERE ET ZAHLER FRERES\", \"RUNGIS/PRIM'FRUIT\", \"CHEVILLY LARUE/PRIMEUR SERVICES DISTRIBUTION\", \"CHEVILLY LARUE/PRIMEUROPE IMPORT ET EXPORT\", \"CHEVILLY LARUE/PRIMEURS SAINT DENIS\", \"CHEVILLY LARUE/PRIMOUEST IMPEX\", \"RUNGIS/PRODISCO\", \"RUNGIS/PROMAFRUIT\", \"CHEVILLY LARUE/PSL FRANCE\", \"CHEVILLY LARUE/PUECH MONTANA\", \"MERE/PVM\", \"CHEVILLY LARUE/RAFAEL LOPEZ\", \"RUNGIS/RG FRANCE\", \"CHEVILLY LARUE/RIVIERA\", \"CHEVILLY LARUE/ROMAPRIM\", \"PARIS/ROUSSINEAU (ETS...)\", \"CHEVILLY LARUE/ROUX (ETS...)\", \"CHEVILLY LARUE/SANCHO FRUITS\", \"GENNEVILLIERS/SDS - SAVEURS DU SUD\", \"MEAUX/SECRET DU PORTUGAL 2\", \"CHEVILLY LARUE/SELECT AGRUMES\", \"RUNGIS/SIIM - STE INTERNATIONALE D'IMPORTATION\", \"CHEVILLY LARUE/SNDE STE NOUVELLE DREVIN EXOTICS\", \"CHEVILLY LARUE/SOFIPRIM\", \"CHEVILLY LARUE/SOLANES (ETS...)\", \"ORLY/SOLPOM\", \"CHEVILLY LARUE/SPEIR - STE PARISIENNE EXPORT IMPORT REPARTITION\", \"RUNGIS/SUN 7 FRUITS\", \"ANTONY/TERRAGAIA\", \"CHEVILLY LARUE/THIRION FRUITS ET LEGUMES (ETS...)\", \"CHEVILLY LARUE/TROPIBANA\", \"LISSES/UNION PRIMEURS ETS LAURANCE\", \"CHEVILLY LARUE/VINAS\", \"PARIS/VOICEVALE FRANCE\", \"ANTONY\", \"AUBERVILLIERS\", \"AVRAINVILLE\", \"BEZONS\", \"BUC\", \"CHAILLY EN BIERE\", \"CHATENOY\", \"CHEVILLY LARUE\", \"CLICHY\", \"GENNEVILLIERS\", \"IVRY SUR SEINE\", \"LEVALLOIS PERRET\", \"LISSES\", \"MEAUX\", \"MERE\", \"NEUILLY PLAISANCE\", \"NEUILLY SUR SEINE\", \"OISSERY\", \"ORLY\", \"PARIS\", \"RUNGIS\", \"SAULX LES CHARTREUX\", \"ST ARNOULT EN YVELINES\", \"ST DENIS\", \"TRILPORT\", \"VERSAILLES\"], \"labels\": [\"A TOUT FRUITS\", \"ACS\", \"ADM PRIMEURS\", \"AGRUBAN\", \"AMS EUROPEAN\", \"ANAREX\", \"ANDRADE DISTRIBUTION\", \"ASIA GROUP\", \"ATOM APPROVISIONNEMENTS TRAFIC OUTRE MER\", \"AUBER PRIMEURS\", \"AUX CHAMPIGNONS DES BOIS\", \"AVON\", \"BALEUX (ETS...)\", \"BANAGRUMES\", \"BARNIER\", \"BC PRIM\", \"BESSON ET ALAPONT (ETS...)\", \"BESSON FRERES\", \"BEVA FRUITS INTERNATIONAL\", \"BIOALIZE\", \"BLAMPIN FRUITS IMPORT RUNGIS\", \"BONABIO\", \"BONIFACCI FRERES\", \"BRATIGNY\", \"CAPESPAN\", \"CAPEXO\", \"CAPEXO FROID\", \"CAPEXO SERVICES\", \"CAPOCCI\", \"CAPOSUD\", \"CAZALIS\", \"CENTRE FRUITS\", \"CHAMPARIS\", \"CHRONOPRIMEURS\", \"COICAULT THOMAS\", \"COLOM SUD\", \"COMMERCIAL FRUITS\", \"CORBEILLES\", \"CRUCHAUDET - GRANDJEAN\", \"DANGA EXOTIC\", \"DAUMESNIL PRIMEURS\", \"DEL MONTE FRANCE\", \"DESMETTRE BIO\", \"DISTRIBUTION EXPRESSE A VOCATION ALIMENTAIRE SODIEXVAL (STE DE...)\", \"DJSMM\", \"EDOUARD BIDAULT (ETS...)\", \"ELITE FRUITS\", \"ELQUI IMPORT\", \"EUROPLANT FRANCE\", \"EXCEL DISTRIBUTION\", \"EXO 3\", \"EXOTICA\", \"FENES\", \"FINANCIERE DE DISTRIBUTION ALIMENTAIRE COFIDA (CIE...)\", \"FRAICHE PRIMEURS\", \"FRELICOT\", \"FRESAL\", \"FRUITIERE FRANCE (CIE...)\", \"FRUITS DU MONDE\", \"FRUTILAND\", \"GBS\", \"GEDO\", \"GEORGES HELFER SA FRANCE\", \"GOETZ\", \"GREENYARD FRESH FRANCE\", \"GROUPE DYNAMIS\", \"GUILLEMARD (ETS...)\", \"HALLES MANDAR\", \"HALLES ORLY SUD\", \"HALLES PARIS SUD\", \"HM DISTRIBUTION\", \"IMPERIAL\", \"JH\", \"JULBUL\", \"JULMAT PRIMEURS\", \"KOTE SAVEURS\", \"KS-JLG\", \"L'HARMEROULT ET CUET\", \"LA COOP BIO D'ILE DE FRANCE\", \"LA POM'ROSE\", \"LA PULPE\", \"LA TABLE DE ROLAND\", \"LE PRIMEUR DU SQUARE\", \"LEBLANC ET SERRE\", \"LEGUERINAIS PRIMEURS\", \"LES JARDINS D'ALBERT\", \"LES VERGERS CHRISTOLIENS - ETS F REBIFFE\", \"LES VERGERS DE BOULOGNE\", \"LLISO FRERES BANANES FRUITS PRIMEURS\", \"LORENZI\", \"LUKY FRUITS\", \"MACEO DISTRIBUTION\", \"MAGELLAN\", \"MAGNIER (ETS...)\", \"MAJGICO\", \"MARTIAL DUVAL (ETS...)\", \"MARTY FL\", \"MED'ESSOR FRANCE\", \"MG PRIMEURS\", \"MICHELLE MAUDUIT (ETS...)\", \"MIGHIRIAN FRERES\", \"MONLOUP (ETS...)\", \"MOOREA COMMERCE FRUITS\", \"MORATAL\", \"MOUNEYRAC FRERES\", \"MZ PRIMEURS\", \"NETA\", \"O'BO MANGO\", \"OLIVER (ETS...)\", \"PAMARTE\", \"PARIS AIL\", \"PARIS EUROPE ALIMENTATION\", \"PARIS PASSION FRAIS\", \"PARIS SAVEURS\", \"PARIS SELECT\", \"PAUL PRIMEURS\", \"PDM\", \"PE-WE\", \"PIERRE BOUCHARECHAS (STE D'EXPLOITATION DES ETS...)\", \"PIERRE DESMETTRE ET FILS (ETS...)\", \"POM ALLIANCE\", \"POM DE TTHEROUANNE\", \"POMONA IMPORT\", \"PRIERE ET ZAHLER FRERES\", \"PRIM'FRUIT\", \"PRIMEUR SERVICES DISTRIBUTION\", \"PRIMEUROPE IMPORT ET EXPORT\", \"PRIMEURS SAINT DENIS\", \"PRIMOUEST IMPEX\", \"PRODISCO\", \"PROMAFRUIT\", \"PSL FRANCE\", \"PUECH MONTANA\", \"PVM\", \"RAFAEL LOPEZ\", \"RG FRANCE\", \"RIVIERA\", \"ROMAPRIM\", \"ROUSSINEAU (ETS...)\", \"ROUX (ETS...)\", \"SANCHO FRUITS\", \"SDS - SAVEURS DU SUD\", \"SECRET DU PORTUGAL 2\", \"SELECT AGRUMES\", \"SIIM - STE INTERNATIONALE D'IMPORTATION\", \"SNDE STE NOUVELLE DREVIN EXOTICS\", \"SOFIPRIM\", \"SOLANES (ETS...)\", \"SOLPOM\", \"SPEIR - STE PARISIENNE EXPORT IMPORT REPARTITION\", \"SUN 7 FRUITS\", \"TERRAGAIA\", \"THIRION FRUITS ET LEGUMES (ETS...)\", \"TROPIBANA\", \"UNION PRIMEURS ETS LAURANCE\", \"VINAS\", \"VOICEVALE FRANCE\", \"ANTONY\", \"AUBERVILLIERS\", \"AVRAINVILLE\", \"BEZONS\", \"BUC\", \"CHAILLY EN BIERE\", \"CHATENOY\", \"CHEVILLY LARUE\", \"CLICHY\", \"GENNEVILLIERS\", \"IVRY SUR SEINE\", \"LEVALLOIS PERRET\", \"LISSES\", \"MEAUX\", \"MERE\", \"NEUILLY PLAISANCE\", \"NEUILLY SUR SEINE\", \"OISSERY\", \"ORLY\", \"PARIS\", \"RUNGIS\", \"SAULX LES CHARTREUX\", \"ST ARNOULT EN YVELINES\", \"ST DENIS\", \"TRILPORT\", \"VERSAILLES\"], \"name\": \"\", \"parents\": [\"NEUILLY PLAISANCE\", \"TRILPORT\", \"CHEVILLY LARUE\", \"CHEVILLY LARUE\", \"CHEVILLY LARUE\", \"CHEVILLY LARUE\", \"CHEVILLY LARUE\", \"CHEVILLY LARUE\", \"CHEVILLY LARUE\", \"AUBERVILLIERS\", \"CHEVILLY LARUE\", \"ANTONY\", \"CHEVILLY LARUE\", \"CHEVILLY LARUE\", \"CHEVILLY LARUE\", \"CHEVILLY LARUE\", \"CHEVILLY LARUE\", \"CHEVILLY LARUE\", \"CHEVILLY LARUE\", \"RUNGIS\", \"CHEVILLY LARUE\", \"CHEVILLY LARUE\", \"CHEVILLY LARUE\", \"CHEVILLY LARUE\", \"PARIS\", \"CHEVILLY LARUE\", \"CHEVILLY LARUE\", \"CHEVILLY LARUE\", \"VERSAILLES\", \"CHEVILLY LARUE\", \"CHEVILLY LARUE\", \"CHEVILLY LARUE\", \"CHEVILLY LARUE\", \"CHEVILLY LARUE\", \"CHEVILLY LARUE\", \"NEUILLY SUR SEINE\", \"RUNGIS\", \"BEZONS\", \"CHEVILLY LARUE\", \"CHEVILLY LARUE\", \"CHEVILLY LARUE\", \"CHEVILLY LARUE\", \"CHEVILLY LARUE\", \"CHEVILLY LARUE\", \"CHEVILLY LARUE\", \"CHEVILLY LARUE\", \"CHEVILLY LARUE\", \"CHEVILLY LARUE\", \"PARIS\", \"CHEVILLY LARUE\", \"CHEVILLY LARUE\", \"CHEVILLY LARUE\", \"CHEVILLY LARUE\", \"CHEVILLY LARUE\", \"RUNGIS\", \"CHEVILLY LARUE\", \"CHEVILLY LARUE\", \"RUNGIS\", \"CHEVILLY LARUE\", \"CHEVILLY LARUE\", \"CHEVILLY LARUE\", \"CLICHY\", \"RUNGIS\", \"SAULX LES CHARTREUX\", \"RUNGIS\", \"RUNGIS\", \"CHEVILLY LARUE\", \"CHEVILLY LARUE\", \"CHEVILLY LARUE\", \"RUNGIS\", \"CHEVILLY LARUE\", \"CHEVILLY LARUE\", \"CHEVILLY LARUE\", \"PARIS\", \"CHEVILLY LARUE\", \"CHEVILLY LARUE\", \"PARIS\", \"CHEVILLY LARUE\", \"CHATENOY\", \"CHEVILLY LARUE\", \"PARIS\", \"CHEVILLY LARUE\", \"ST DENIS\", \"CHEVILLY LARUE\", \"CHEVILLY LARUE\", \"CHEVILLY LARUE\", \"CHEVILLY LARUE\", \"RUNGIS\", \"CHEVILLY LARUE\", \"AVRAINVILLE\", \"CHEVILLY LARUE\", \"CHEVILLY LARUE\", \"RUNGIS\", \"CHEVILLY LARUE\", \"IVRY SUR SEINE\", \"BUC\", \"CHAILLY EN BIERE\", \"CHEVILLY LARUE\", \"CHEVILLY LARUE\", \"CHEVILLY LARUE\", \"CHEVILLY LARUE\", \"CHEVILLY LARUE\", \"CHEVILLY LARUE\", \"CHEVILLY LARUE\", \"CHEVILLY LARUE\", \"LEVALLOIS PERRET\", \"CHEVILLY LARUE\", \"ST ARNOULT EN YVELINES\", \"CHEVILLY LARUE\", \"CHEVILLY LARUE\", \"CHEVILLY LARUE\", \"PARIS\", \"RUNGIS\", \"CHEVILLY LARUE\", \"CHEVILLY LARUE\", \"CHEVILLY LARUE\", \"CHEVILLY LARUE\", \"CHEVILLY LARUE\", \"BUC\", \"CHEVILLY LARUE\", \"ORLY\", \"OISSERY\", \"ANTONY\", \"CHEVILLY LARUE\", \"RUNGIS\", \"CHEVILLY LARUE\", \"CHEVILLY LARUE\", \"CHEVILLY LARUE\", \"CHEVILLY LARUE\", \"RUNGIS\", \"RUNGIS\", \"CHEVILLY LARUE\", \"CHEVILLY LARUE\", \"MERE\", \"CHEVILLY LARUE\", \"RUNGIS\", \"CHEVILLY LARUE\", \"CHEVILLY LARUE\", \"PARIS\", \"CHEVILLY LARUE\", \"CHEVILLY LARUE\", \"GENNEVILLIERS\", \"MEAUX\", \"CHEVILLY LARUE\", \"RUNGIS\", \"CHEVILLY LARUE\", \"CHEVILLY LARUE\", \"CHEVILLY LARUE\", \"ORLY\", \"CHEVILLY LARUE\", \"RUNGIS\", \"ANTONY\", \"CHEVILLY LARUE\", \"CHEVILLY LARUE\", \"LISSES\", \"CHEVILLY LARUE\", \"PARIS\", \"\", \"\", \"\", \"\", \"\", \"\", \"\", \"\", \"\", \"\", \"\", \"\", \"\", \"\", \"\", \"\", \"\", \"\", \"\", \"\", \"\", \"\", \"\", \"\", \"\", \"\"], \"type\": \"sunburst\", \"values\": [774, 5158, 12157, 10015, 13940, 3882, 7834, 10009, 5916, 580, 1388, 13592, 17986, 21512, 11609, 43694, 35883, 15459, 18301, 8656, 34480, 18709, 14597, 27178, 845, 53688, 1040, 1143, 2285, 7506, 16544, 5273, 11103, 62193, 11118, 1354, 25526, 2961, 24387, 937, 15249, 50151, 1936, 54712, 9670, 4281, 13451, 8513, 11138, 3648, 13320, 14141, 2556, 4959, 4849, 18759, 5353, 141014, 87421, 2734, 15397, 1401, 86741, 12549, 98869, 30060, 4745, 37684, 14517, 10976, 17014, 3693, 28831, 2905, 6300, 5102, 2085, 5647, 5220, 10167, 33123, 2194, 1291, 15796, 6247, 8165, 7729, 1600, 11416, 5032, 8341, 25818, 10897, 9189, 2230, 6578, 4046, 4968, 16853, 6402, 14869, 17714, 15630, 2992, 12117, 676, 31057, 939, 8755, 6741, 13818, 3240, 2957, 7292, 6263, 9775, 15646, 5646, 4621, 53086, 86926, 4420, 68231, 24506, 7969, 10082, 12005, 14259, 11395, 7689, 7985, 7304, 16909, 18371, 13508, 16686, 6573, 4183, 16581, 17034, 10462, 2011, 704, 25558, 97012, 4061, 1424, 9949, 9618, 43395, 5815, 41958, 4264, 4976, 35908, 47464, 95441, 123781, 580, 5032, 2961, 11199, 4046, 5220, 1613262, 1401, 2011, 2230, 676, 35908, 704, 18371, 774, 1354, 4420, 96544, 165358, 565301, 12549, 939, 1291, 5158, 2285]}],                        {\"legend\": {\"tracegroupgap\": 0}, \"margin\": {\"b\": 0, \"l\": 0, \"r\": 0, \"t\": 0}, \"template\": {\"data\": {\"scatter\": [{\"type\": \"scatter\"}]}}},                        {\"responsive\": true}                    ).then(function(){\n",
       "                            \n",
       "var gd = document.getElementById('defa86a2-393e-4f05-94e0-f9ffc4fc16df');\n",
       "var x = new MutationObserver(function (mutations, observer) {{\n",
       "        var display = window.getComputedStyle(gd).display;\n",
       "        if (!display || display === 'none') {{\n",
       "            console.log([gd, 'removed!']);\n",
       "            Plotly.purge(gd);\n",
       "            observer.disconnect();\n",
       "        }}\n",
       "}});\n",
       "\n",
       "// Listen for the removal of the full notebook cells\n",
       "var notebookContainer = gd.closest('#notebook-container');\n",
       "if (notebookContainer) {{\n",
       "    x.observe(notebookContainer, {childList: true});\n",
       "}}\n",
       "\n",
       "// Listen for the clearing of the current output cell\n",
       "var outputEl = gd.closest('.output');\n",
       "if (outputEl) {{\n",
       "    x.observe(outputEl, {childList: true});\n",
       "}}\n",
       "\n",
       "                        })                };                });            </script>        </div>"
      ]
     },
     "metadata": {},
     "output_type": "display_data"
    }
   ],
   "source": [
    "fig = px.sunburst(data, path=['VILLE', 'RAISONSOCIALE'], values='FL')\n",
    "\n",
    "fig.update_layout(margin = dict(t=0, l=0, r=0, b=0))\n",
    "\n",
    "fig.show()"
   ]
  },
  {
   "cell_type": "code",
   "execution_count": 82,
   "metadata": {},
   "outputs": [
    {
     "data": {
      "application/vnd.plotly.v1+json": {
       "config": {
        "plotlyServerURL": "https://plot.ly"
       },
       "data": [
        {
         "type": "bar",
         "x": [
          "FRUITIERE FRANCE (CIE...)",
          "GREENYARD FRESH FRANCE",
          "SIIM - STE INTERNATIONALE D'IMPORTATION",
          "VOICEVALE FRANCE",
          "FRUITS DU MONDE",
          "POM ALLIANCE",
          "GEORGES HELFER SA FRANCE",
          "POMONA IMPORT",
          "CHRONOPRIMEURS",
          "DISTRIBUTION EXPRESSE A VOCATION ALIMENTAIRE SODIEXVAL (STE DE...)",
          "CAPEXO",
          "PIERRE DESMETTRE ET FILS (ETS...)",
          "DEL MONTE FRANCE",
          "VINAS",
          "BC PRIM",
          "SPEIR - STE PARISIENNE EXPORT IMPORT REPARTITION",
          "TERRAGAIA",
          "HALLES MANDAR",
          "UNION PRIMEURS ETS LAURANCE",
          "BESSON ET ALAPONT (ETS...)",
          "BLAMPIN FRUITS IMPORT RUNGIS",
          "LA PULPE",
          "NETA",
          "GROUPE DYNAMIS",
          "JH",
          "BRATIGNY",
          "MACEO DISTRIBUTION",
          "SELECT AGRUMES",
          "COMMERCIAL FRUITS",
          "PRIERE ET ZAHLER FRERES",
          "CRUCHAUDET - GRANDJEAN",
          "BANAGRUMES",
          "FRELICOT",
          "BONABIO",
          "PVM",
          "BEVA FRUITS INTERNATIONAL",
          "BALEUX (ETS...)",
          "MONLOUP (ETS...)",
          "ROUX (ETS...)",
          "HM DISTRIBUTION",
          "PUECH MONTANA",
          "MG PRIMEURS",
          "RG FRANCE",
          "ROUSSINEAU (ETS...)",
          "CAZALIS",
          "LEBLANC ET SERRE",
          "PDM",
          "MOOREA COMMERCE FRUITS",
          "BESSON FRERES",
          "GBS",
          "DAUMESNIL PRIMEURS",
          "MIGHIRIAN FRERES",
          "BONIFACCI FRERES",
          "HALLES ORLY SUD",
          "PRIMEURS SAINT DENIS",
          "EXOTICA",
          "AMS EUROPEAN",
          "PARIS AIL",
          "AVON",
          "RAFAEL LOPEZ",
          "ELITE FRUITS",
          "EXO 3",
          "GOETZ",
          "ADM PRIMEURS",
          "MOUNEYRAC FRERES",
          "PRIMEUROPE IMPORT ET EXPORT",
          "BARNIER",
          "LLISO FRERES BANANES FRUITS PRIMEURS",
          "PRIMOUEST IMPEX",
          "EUROPLANT FRANCE",
          "COICAULT THOMAS",
          "CHAMPARIS",
          "HALLES PARIS SUD",
          "MAGELLAN",
          "SANCHO FRUITS",
          "LA POM'ROSE",
          "PRIMEUR SERVICES DISTRIBUTION",
          "AGRUBAN",
          "ASIA GROUP",
          "SOLANES (ETS...)",
          "PAUL PRIMEURS",
          "DJSMM",
          "SOLPOM",
          "MAGNIER (ETS...)",
          "OLIVER (ETS...)",
          "BIOALIZE",
          "ELQUI IMPORT",
          "LUKY FRUITS",
          "LES JARDINS D'ALBERT",
          "PROMAFRUIT",
          "PRIM'FRUIT",
          "ANDRADE DISTRIBUTION",
          "LES VERGERS CHRISTOLIENS - ETS F REBIFFE",
          "PRODISCO",
          "CAPOSUD",
          "PSL FRANCE",
          "PARIS SAVEURS",
          "PAMARTE",
          "MARTIAL DUVAL (ETS...)",
          "RIVIERA",
          "MICHELLE MAUDUIT (ETS...)",
          "JULMAT PRIMEURS",
          "PARIS SELECT",
          "LEGUERINAIS PRIMEURS",
          "ATOM APPROVISIONNEMENTS TRAFIC OUTRE MER",
          "SUN 7 FRUITS",
          "L'HARMEROULT ET CUET",
          "PE-WE",
          "FRESAL",
          "CENTRE FRUITS",
          "LA COOP BIO D'ILE DE FRANCE",
          "ACS",
          "KOTE SAVEURS",
          "LORENZI",
          "TROPIBANA",
          "MED'ESSOR FRANCE",
          "FINANCIERE DE DISTRIBUTION ALIMENTAIRE COFIDA (CIE...)",
          "FRAICHE PRIMEURS",
          "GUILLEMARD (ETS...)",
          "PIERRE BOUCHARECHAS (STE D'EXPLOITATION DES ETS...)",
          "POM DE TTHEROUANNE",
          "EDOUARD BIDAULT (ETS...)",
          "THIRION FRUITS ET LEGUMES (ETS...)",
          "ROMAPRIM",
          "SNDE STE NOUVELLE DREVIN EXOTICS",
          "MARTY FL",
          "ANAREX",
          "IMPERIAL",
          "EXCEL DISTRIBUTION",
          "PARIS EUROPE ALIMENTATION",
          "MORATAL",
          "CORBEILLES",
          "PARIS PASSION FRAIS",
          "JULBUL",
          "FRUTILAND",
          "FENES",
          "CAPOCCI",
          "MAJGICO",
          "LA TABLE DE ROLAND",
          "KS-JLG",
          "SDS - SAVEURS DU SUD",
          "DESMETTRE BIO",
          "LES VERGERS DE BOULOGNE",
          "SOFIPRIM",
          "GEDO",
          "AUX CHAMPIGNONS DES BOIS",
          "COLOM SUD",
          "LE PRIMEUR DU SQUARE",
          "CAPEXO SERVICES",
          "CAPEXO FROID",
          "O'BO MANGO",
          "DANGA EXOTIC",
          "CAPESPAN",
          "A TOUT FRUITS",
          "SECRET DU PORTUGAL 2",
          "MZ PRIMEURS",
          "AUBER PRIMEURS"
         ],
         "y": [
          141014,
          98869,
          97012,
          95441,
          87421,
          86926,
          86741,
          68231,
          62193,
          54712,
          53688,
          53086,
          50151,
          47464,
          43694,
          43395,
          41958,
          37684,
          35908,
          35883,
          34480,
          33123,
          31057,
          30060,
          28831,
          27178,
          25818,
          25558,
          25526,
          24506,
          24387,
          21512,
          18759,
          18709,
          18371,
          18301,
          17986,
          17714,
          17034,
          17014,
          16909,
          16853,
          16686,
          16581,
          16544,
          15796,
          15646,
          15630,
          15459,
          15397,
          15249,
          14869,
          14597,
          14517,
          14259,
          14141,
          13940,
          13818,
          13592,
          13508,
          13451,
          13320,
          12549,
          12157,
          12117,
          12005,
          11609,
          11416,
          11395,
          11138,
          11118,
          11103,
          10976,
          10897,
          10462,
          10167,
          10082,
          10015,
          10009,
          9949,
          9775,
          9670,
          9618,
          9189,
          8755,
          8656,
          8513,
          8341,
          8165,
          7985,
          7969,
          7834,
          7729,
          7689,
          7506,
          7304,
          7292,
          6741,
          6578,
          6573,
          6402,
          6300,
          6263,
          6247,
          5916,
          5815,
          5647,
          5646,
          5353,
          5273,
          5220,
          5158,
          5102,
          5032,
          4976,
          4968,
          4959,
          4849,
          4745,
          4621,
          4420,
          4281,
          4264,
          4183,
          4061,
          4046,
          3882,
          3693,
          3648,
          3240,
          2992,
          2961,
          2957,
          2905,
          2734,
          2556,
          2285,
          2230,
          2194,
          2085,
          2011,
          1936,
          1600,
          1424,
          1401,
          1388,
          1354,
          1291,
          1143,
          1040,
          939,
          937,
          845,
          774,
          704,
          676,
          580
         ]
        }
       ],
       "layout": {
        "template": {
         "data": {
          "scatter": [
           {
            "type": "scatter"
           }
          ]
         }
        },
        "title": {
         "text": "bar_plot de chiffres d'affaires de fruits et légumes par fournisseur"
        }
       }
      },
      "text/html": [
       "<div>                            <div id=\"d8cf6e42-05a9-45c9-895d-900752e95dd1\" class=\"plotly-graph-div\" style=\"height:525px; width:100%;\"></div>            <script type=\"text/javascript\">                require([\"plotly\"], function(Plotly) {                    window.PLOTLYENV=window.PLOTLYENV || {};                                    if (document.getElementById(\"d8cf6e42-05a9-45c9-895d-900752e95dd1\")) {                    Plotly.newPlot(                        \"d8cf6e42-05a9-45c9-895d-900752e95dd1\",                        [{\"type\": \"bar\", \"x\": [\"FRUITIERE FRANCE (CIE...)\", \"GREENYARD FRESH FRANCE\", \"SIIM - STE INTERNATIONALE D'IMPORTATION\", \"VOICEVALE FRANCE\", \"FRUITS DU MONDE\", \"POM ALLIANCE\", \"GEORGES HELFER SA FRANCE\", \"POMONA IMPORT\", \"CHRONOPRIMEURS\", \"DISTRIBUTION EXPRESSE A VOCATION ALIMENTAIRE SODIEXVAL (STE DE...)\", \"CAPEXO\", \"PIERRE DESMETTRE ET FILS (ETS...)\", \"DEL MONTE FRANCE\", \"VINAS\", \"BC PRIM\", \"SPEIR - STE PARISIENNE EXPORT IMPORT REPARTITION\", \"TERRAGAIA\", \"HALLES MANDAR\", \"UNION PRIMEURS ETS LAURANCE\", \"BESSON ET ALAPONT (ETS...)\", \"BLAMPIN FRUITS IMPORT RUNGIS\", \"LA PULPE\", \"NETA\", \"GROUPE DYNAMIS\", \"JH\", \"BRATIGNY\", \"MACEO DISTRIBUTION\", \"SELECT AGRUMES\", \"COMMERCIAL FRUITS\", \"PRIERE ET ZAHLER FRERES\", \"CRUCHAUDET - GRANDJEAN\", \"BANAGRUMES\", \"FRELICOT\", \"BONABIO\", \"PVM\", \"BEVA FRUITS INTERNATIONAL\", \"BALEUX (ETS...)\", \"MONLOUP (ETS...)\", \"ROUX (ETS...)\", \"HM DISTRIBUTION\", \"PUECH MONTANA\", \"MG PRIMEURS\", \"RG FRANCE\", \"ROUSSINEAU (ETS...)\", \"CAZALIS\", \"LEBLANC ET SERRE\", \"PDM\", \"MOOREA COMMERCE FRUITS\", \"BESSON FRERES\", \"GBS\", \"DAUMESNIL PRIMEURS\", \"MIGHIRIAN FRERES\", \"BONIFACCI FRERES\", \"HALLES ORLY SUD\", \"PRIMEURS SAINT DENIS\", \"EXOTICA\", \"AMS EUROPEAN\", \"PARIS AIL\", \"AVON\", \"RAFAEL LOPEZ\", \"ELITE FRUITS\", \"EXO 3\", \"GOETZ\", \"ADM PRIMEURS\", \"MOUNEYRAC FRERES\", \"PRIMEUROPE IMPORT ET EXPORT\", \"BARNIER\", \"LLISO FRERES BANANES FRUITS PRIMEURS\", \"PRIMOUEST IMPEX\", \"EUROPLANT FRANCE\", \"COICAULT THOMAS\", \"CHAMPARIS\", \"HALLES PARIS SUD\", \"MAGELLAN\", \"SANCHO FRUITS\", \"LA POM'ROSE\", \"PRIMEUR SERVICES DISTRIBUTION\", \"AGRUBAN\", \"ASIA GROUP\", \"SOLANES (ETS...)\", \"PAUL PRIMEURS\", \"DJSMM\", \"SOLPOM\", \"MAGNIER (ETS...)\", \"OLIVER (ETS...)\", \"BIOALIZE\", \"ELQUI IMPORT\", \"LUKY FRUITS\", \"LES JARDINS D'ALBERT\", \"PROMAFRUIT\", \"PRIM'FRUIT\", \"ANDRADE DISTRIBUTION\", \"LES VERGERS CHRISTOLIENS - ETS F REBIFFE\", \"PRODISCO\", \"CAPOSUD\", \"PSL FRANCE\", \"PARIS SAVEURS\", \"PAMARTE\", \"MARTIAL DUVAL (ETS...)\", \"RIVIERA\", \"MICHELLE MAUDUIT (ETS...)\", \"JULMAT PRIMEURS\", \"PARIS SELECT\", \"LEGUERINAIS PRIMEURS\", \"ATOM APPROVISIONNEMENTS TRAFIC OUTRE MER\", \"SUN 7 FRUITS\", \"L'HARMEROULT ET CUET\", \"PE-WE\", \"FRESAL\", \"CENTRE FRUITS\", \"LA COOP BIO D'ILE DE FRANCE\", \"ACS\", \"KOTE SAVEURS\", \"LORENZI\", \"TROPIBANA\", \"MED'ESSOR FRANCE\", \"FINANCIERE DE DISTRIBUTION ALIMENTAIRE COFIDA (CIE...)\", \"FRAICHE PRIMEURS\", \"GUILLEMARD (ETS...)\", \"PIERRE BOUCHARECHAS (STE D'EXPLOITATION DES ETS...)\", \"POM DE TTHEROUANNE\", \"EDOUARD BIDAULT (ETS...)\", \"THIRION FRUITS ET LEGUMES (ETS...)\", \"ROMAPRIM\", \"SNDE STE NOUVELLE DREVIN EXOTICS\", \"MARTY FL\", \"ANAREX\", \"IMPERIAL\", \"EXCEL DISTRIBUTION\", \"PARIS EUROPE ALIMENTATION\", \"MORATAL\", \"CORBEILLES\", \"PARIS PASSION FRAIS\", \"JULBUL\", \"FRUTILAND\", \"FENES\", \"CAPOCCI\", \"MAJGICO\", \"LA TABLE DE ROLAND\", \"KS-JLG\", \"SDS - SAVEURS DU SUD\", \"DESMETTRE BIO\", \"LES VERGERS DE BOULOGNE\", \"SOFIPRIM\", \"GEDO\", \"AUX CHAMPIGNONS DES BOIS\", \"COLOM SUD\", \"LE PRIMEUR DU SQUARE\", \"CAPEXO SERVICES\", \"CAPEXO FROID\", \"O'BO MANGO\", \"DANGA EXOTIC\", \"CAPESPAN\", \"A TOUT FRUITS\", \"SECRET DU PORTUGAL 2\", \"MZ PRIMEURS\", \"AUBER PRIMEURS\"], \"y\": [141014, 98869, 97012, 95441, 87421, 86926, 86741, 68231, 62193, 54712, 53688, 53086, 50151, 47464, 43694, 43395, 41958, 37684, 35908, 35883, 34480, 33123, 31057, 30060, 28831, 27178, 25818, 25558, 25526, 24506, 24387, 21512, 18759, 18709, 18371, 18301, 17986, 17714, 17034, 17014, 16909, 16853, 16686, 16581, 16544, 15796, 15646, 15630, 15459, 15397, 15249, 14869, 14597, 14517, 14259, 14141, 13940, 13818, 13592, 13508, 13451, 13320, 12549, 12157, 12117, 12005, 11609, 11416, 11395, 11138, 11118, 11103, 10976, 10897, 10462, 10167, 10082, 10015, 10009, 9949, 9775, 9670, 9618, 9189, 8755, 8656, 8513, 8341, 8165, 7985, 7969, 7834, 7729, 7689, 7506, 7304, 7292, 6741, 6578, 6573, 6402, 6300, 6263, 6247, 5916, 5815, 5647, 5646, 5353, 5273, 5220, 5158, 5102, 5032, 4976, 4968, 4959, 4849, 4745, 4621, 4420, 4281, 4264, 4183, 4061, 4046, 3882, 3693, 3648, 3240, 2992, 2961, 2957, 2905, 2734, 2556, 2285, 2230, 2194, 2085, 2011, 1936, 1600, 1424, 1401, 1388, 1354, 1291, 1143, 1040, 939, 937, 845, 774, 704, 676, 580]}],                        {\"template\": {\"data\": {\"scatter\": [{\"type\": \"scatter\"}]}}, \"title\": {\"text\": \"bar_plot de chiffres d'affaires de fruits et l\\u00e9gumes par fournisseur\"}},                        {\"responsive\": true}                    ).then(function(){\n",
       "                            \n",
       "var gd = document.getElementById('d8cf6e42-05a9-45c9-895d-900752e95dd1');\n",
       "var x = new MutationObserver(function (mutations, observer) {{\n",
       "        var display = window.getComputedStyle(gd).display;\n",
       "        if (!display || display === 'none') {{\n",
       "            console.log([gd, 'removed!']);\n",
       "            Plotly.purge(gd);\n",
       "            observer.disconnect();\n",
       "        }}\n",
       "}});\n",
       "\n",
       "// Listen for the removal of the full notebook cells\n",
       "var notebookContainer = gd.closest('#notebook-container');\n",
       "if (notebookContainer) {{\n",
       "    x.observe(notebookContainer, {childList: true});\n",
       "}}\n",
       "\n",
       "// Listen for the clearing of the current output cell\n",
       "var outputEl = gd.closest('.output');\n",
       "if (outputEl) {{\n",
       "    x.observe(outputEl, {childList: true});\n",
       "}}\n",
       "\n",
       "                        })                };                });            </script>        </div>"
      ]
     },
     "metadata": {},
     "output_type": "display_data"
    }
   ],
   "source": [
    "fig = go.Figure(data=go.Bar(x=data['RAISONSOCIALE'], y=data['FL']))\n",
    "fig.layout.title.text = \"bar_plot de chiffres d'affaires de fruits et légumes par fournisseur\"\n",
    "fig.show()"
   ]
  },
  {
   "cell_type": "code",
   "execution_count": 83,
   "metadata": {},
   "outputs": [
    {
     "data": {
      "application/vnd.plotly.v1+json": {
       "config": {
        "plotlyServerURL": "https://plot.ly"
       },
       "data": [
        {
         "hovertemplate": "CODEPOSTAL=%{marker.color}<br>FL=%{y}<extra></extra>",
         "legendgroup": "",
         "marker": {
          "color": [
           75005,
           75008,
           75010,
           75015,
           75016,
           75017,
           75018,
           77100,
           77167,
           77178,
           77470,
           77930,
           78000,
           78490,
           78530,
           78730,
           91090,
           91160,
           91630,
           92110,
           92160,
           92200,
           92230,
           92300,
           93200,
           93300,
           93360,
           94150,
           94200,
           94310,
           94550,
           94587,
           95870
          ],
          "coloraxis": "coloraxis",
          "symbol": "circle"
         },
         "mode": "markers",
         "name": "",
         "orientation": "v",
         "showlegend": false,
         "type": "scatter",
         "x": [
          75005,
          75008,
          75010,
          75015,
          75016,
          75017,
          75018,
          77100,
          77167,
          77178,
          77470,
          77930,
          78000,
          78490,
          78530,
          78730,
          91090,
          91160,
          91630,
          92110,
          92160,
          92200,
          92230,
          92300,
          93200,
          93300,
          93360,
          94150,
          94200,
          94310,
          94550,
          94587,
          95870
         ],
         "xaxis": "x",
         "y": [
          16581,
          33968,
          2085,
          11138,
          95441,
          3240,
          2905,
          704,
          5220,
          4420,
          5158,
          4046,
          2285,
          18371,
          11199,
          939,
          35908,
          12549,
          5032,
          1401,
          123781,
          1354,
          2011,
          676,
          1291,
          580,
          774,
          565301,
          2230,
          96544,
          1587444,
          25818,
          2961
         ],
         "yaxis": "y"
        }
       ],
       "layout": {
        "coloraxis": {
         "colorbar": {
          "title": {
           "text": "CODEPOSTAL"
          }
         },
         "colorscale": [
          [
           0,
           "#440154"
          ],
          [
           0.1111111111111111,
           "#482878"
          ],
          [
           0.2222222222222222,
           "#3e4989"
          ],
          [
           0.3333333333333333,
           "#31688e"
          ],
          [
           0.4444444444444444,
           "#26828e"
          ],
          [
           0.5555555555555556,
           "#1f9e89"
          ],
          [
           0.6666666666666666,
           "#35b779"
          ],
          [
           0.7777777777777778,
           "#6ece58"
          ],
          [
           0.8888888888888888,
           "#b5de2b"
          ],
          [
           1,
           "#fde725"
          ]
         ]
        },
        "legend": {
         "tracegroupgap": 0
        },
        "template": {
         "data": {
          "scatter": [
           {
            "type": "scatter"
           }
          ]
         }
        },
        "title": {
         "text": "Chiffre d'affaire des fournisseurs FL par code postal"
        },
        "xaxis": {
         "anchor": "y",
         "domain": [
          0,
          1
         ],
         "title": {
          "text": "CODEPOSTAL"
         }
        },
        "yaxis": {
         "anchor": "x",
         "domain": [
          0,
          1
         ],
         "title": {
          "text": "FL"
         }
        }
       }
      },
      "text/html": [
       "<div>                            <div id=\"42436571-dc97-4824-90cb-6af6397c0ef6\" class=\"plotly-graph-div\" style=\"height:525px; width:100%;\"></div>            <script type=\"text/javascript\">                require([\"plotly\"], function(Plotly) {                    window.PLOTLYENV=window.PLOTLYENV || {};                                    if (document.getElementById(\"42436571-dc97-4824-90cb-6af6397c0ef6\")) {                    Plotly.newPlot(                        \"42436571-dc97-4824-90cb-6af6397c0ef6\",                        [{\"hovertemplate\": \"CODEPOSTAL=%{marker.color}<br>FL=%{y}<extra></extra>\", \"legendgroup\": \"\", \"marker\": {\"color\": [75005, 75008, 75010, 75015, 75016, 75017, 75018, 77100, 77167, 77178, 77470, 77930, 78000, 78490, 78530, 78730, 91090, 91160, 91630, 92110, 92160, 92200, 92230, 92300, 93200, 93300, 93360, 94150, 94200, 94310, 94550, 94587, 95870], \"coloraxis\": \"coloraxis\", \"symbol\": \"circle\"}, \"mode\": \"markers\", \"name\": \"\", \"orientation\": \"v\", \"showlegend\": false, \"type\": \"scatter\", \"x\": [75005, 75008, 75010, 75015, 75016, 75017, 75018, 77100, 77167, 77178, 77470, 77930, 78000, 78490, 78530, 78730, 91090, 91160, 91630, 92110, 92160, 92200, 92230, 92300, 93200, 93300, 93360, 94150, 94200, 94310, 94550, 94587, 95870], \"xaxis\": \"x\", \"y\": [16581, 33968, 2085, 11138, 95441, 3240, 2905, 704, 5220, 4420, 5158, 4046, 2285, 18371, 11199, 939, 35908, 12549, 5032, 1401, 123781, 1354, 2011, 676, 1291, 580, 774, 565301, 2230, 96544, 1587444, 25818, 2961], \"yaxis\": \"y\"}],                        {\"coloraxis\": {\"colorbar\": {\"title\": {\"text\": \"CODEPOSTAL\"}}, \"colorscale\": [[0.0, \"#440154\"], [0.1111111111111111, \"#482878\"], [0.2222222222222222, \"#3e4989\"], [0.3333333333333333, \"#31688e\"], [0.4444444444444444, \"#26828e\"], [0.5555555555555556, \"#1f9e89\"], [0.6666666666666666, \"#35b779\"], [0.7777777777777778, \"#6ece58\"], [0.8888888888888888, \"#b5de2b\"], [1.0, \"#fde725\"]]}, \"legend\": {\"tracegroupgap\": 0}, \"template\": {\"data\": {\"scatter\": [{\"type\": \"scatter\"}]}}, \"title\": {\"text\": \"Chiffre d'affaire des fournisseurs FL par code postal\"}, \"xaxis\": {\"anchor\": \"y\", \"domain\": [0.0, 1.0], \"title\": {\"text\": \"CODEPOSTAL\"}}, \"yaxis\": {\"anchor\": \"x\", \"domain\": [0.0, 1.0], \"title\": {\"text\": \"FL\"}}},                        {\"responsive\": true}                    ).then(function(){\n",
       "                            \n",
       "var gd = document.getElementById('42436571-dc97-4824-90cb-6af6397c0ef6');\n",
       "var x = new MutationObserver(function (mutations, observer) {{\n",
       "        var display = window.getComputedStyle(gd).display;\n",
       "        if (!display || display === 'none') {{\n",
       "            console.log([gd, 'removed!']);\n",
       "            Plotly.purge(gd);\n",
       "            observer.disconnect();\n",
       "        }}\n",
       "}});\n",
       "\n",
       "// Listen for the removal of the full notebook cells\n",
       "var notebookContainer = gd.closest('#notebook-container');\n",
       "if (notebookContainer) {{\n",
       "    x.observe(notebookContainer, {childList: true});\n",
       "}}\n",
       "\n",
       "// Listen for the clearing of the current output cell\n",
       "var outputEl = gd.closest('.output');\n",
       "if (outputEl) {{\n",
       "    x.observe(outputEl, {childList: true});\n",
       "}}\n",
       "\n",
       "                        })                };                });            </script>        </div>"
      ]
     },
     "metadata": {},
     "output_type": "display_data"
    }
   ],
   "source": [
    "dataset = data.groupby(['CODEPOSTAL']).agg({'FL':'sum'}).reset_index()\n",
    "fig = px.scatter(dataset, x=\"CODEPOSTAL\", y=\"FL\", color=\"CODEPOSTAL\",\n",
    "                 title=\"Chiffre d'affaire des fournisseurs FL par code postal\")\n",
    "fig.show()"
   ]
  },
  {
   "cell_type": "code",
   "execution_count": 84,
   "metadata": {},
   "outputs": [
    {
     "data": {
      "text/html": [
       "<iframe style=\"border:0;outline:none;overflow:hidden\" srcdoc=\"&lt;!DOCTYPE html&gt; &lt;html lang=&quot;en&quot;&gt; &lt;head&gt; &lt;meta charset=&quot;utf-8&quot; /&gt; &lt;link href=&quot;https://www.highcharts.com/highslide/highslide.css&quot; rel=&quot;stylesheet&quot; /&gt; &lt;script type=&quot;text/javascript&quot; src=&quot;https://ajax.googleapis.com/ajax/libs/jquery/1.9.1/jquery.min.js&quot;&gt;&lt;/script&gt; &lt;script type=&quot;text/javascript&quot; src=&quot;https://code.highcharts.com/6/highcharts.js&quot;&gt;&lt;/script&gt; &lt;script type=&quot;text/javascript&quot; src=&quot;https://code.highcharts.com/6/highcharts-more.js&quot;&gt;&lt;/script&gt; &lt;script type=&quot;text/javascript&quot; src=&quot;https://code.highcharts.com/6/modules/heatmap.js&quot;&gt;&lt;/script&gt; &lt;script type=&quot;text/javascript&quot; src=&quot;https://code.highcharts.com/6/modules/exporting.js&quot;&gt;&lt;/script&gt; &lt;/head&gt; &lt;body style=&quot;margin:0;padding:0&quot;&gt; &lt;div id=&quot;container&quot; style=&quot;&quot;&gt;Loading....&lt;/div&gt; &lt;script&gt; $(function(){ Highcharts.setOptions({&quot;global&quot;: {}, &quot;lang&quot;: {}}); var option = {&quot;chart&quot;: {&quot;renderTo&quot;: &quot;container&quot;}, &quot;colors&quot;: {}, &quot;credits&quot;: {&quot;enabled&quot;: false}, &quot;drilldown&quot;: {}, &quot;exporting&quot;: {}, &quot;labels&quot;: {}, &quot;legend&quot;: {&quot;layout&quot;: &quot;vertical&quot;, &quot;align&quot;: &quot;right&quot;, &quot;verticalAlign&quot;: &quot;top&quot;, &quot;x&quot;: -40, &quot;y&quot;: 80, &quot;floating&quot;: true, &quot;borderWidth&quot;: 1, &quot;backgroundColor&quot;: ((Highcharts.theme &amp;&amp; Highcharts.theme.legendBackgroundColor) || &#x27;#FFFFFF&#x27;), &quot;shadow&quot;: true}, &quot;loading&quot;: {}, &quot;navigation&quot;: {}, &quot;pane&quot;: {}, &quot;plotOptions&quot;: {&quot;bar&quot;: {&quot;dataLabels&quot;: {&quot;enabled&quot;: true}}}, &quot;series&quot;: {}, &quot;subtitle&quot;: {}, &quot;title&quot;: {&quot;text&quot;: &quot;Distribution de Chiffre d&#x27;affaire par ville&quot;}, &quot;tooltip&quot;: {&quot;valueSuffix&quot;: &quot; \\u20ac&quot;}, &quot;xAxis&quot;: {&quot;categories&quot;: [&quot;ANTONY&quot;, &quot;AUBERVILLIERS&quot;, &quot;AVRAINVILLE&quot;, &quot;BEZONS&quot;, &quot;BUC&quot;, &quot;CHAILLY EN BIERE&quot;, &quot;CHATENOY&quot;, &quot;CHEVILLY LARUE&quot;, &quot;CLICHY&quot;, &quot;GENNEVILLIERS&quot;, &quot;IVRY SUR SEINE&quot;, &quot;LEVALLOIS PERRET&quot;, &quot;LISSES&quot;, &quot;MEAUX&quot;, &quot;MERE&quot;, &quot;NEUILLY PLAISANCE&quot;, &quot;NEUILLY SUR SEINE&quot;, &quot;OISSERY&quot;, &quot;ORLY&quot;, &quot;PARIS&quot;, &quot;RUNGIS&quot;, &quot;SAULX LES CHARTREUX&quot;, &quot;ST ARNOULT EN YVELINESST DENIS&quot;, &quot;TRILPORT&quot;, &quot;VERSAILLES&quot;], &quot;title&quot;: {&quot;text&quot;: null}}, &quot;yAxis&quot;: {&quot;min&quot;: 0, &quot;title&quot;: {&quot;text&quot;: &quot; Chiffre d&#x27;affaire(\\u20ac)&quot;, &quot;align&quot;: &quot;high&quot;}, &quot;labels&quot;: {&quot;overflow&quot;: &quot;justify&quot;}}}; var chart = new Highcharts.Chart(option); var data = [{&quot;data&quot;: [123781, 580, 5032, 2961, 11199, 4046, 5220, 1613262, 1401, 2011, 2230, 676, 35908, 704, 18371, 774, 1354, 4420, 96544, 165358, 565301, 12549, 939, 2291, 5158, 2285], &quot;type&quot;: &quot;bar&quot;, &quot;name&quot;: &quot;CA&quot;}]; var dataLen = data.length; for (var ix = 0; ix &lt; dataLen; ix++) { chart.addSeries(data[ix]); } }); &lt;/script&gt; &lt;/body&gt; &lt;/html&gt;\" height=520 width=820></iframe>"
      ],
      "text/plain": [
       "<highcharts.highcharts.highcharts.Highchart at 0x7fc22b9fc668>"
      ]
     },
     "execution_count": 84,
     "metadata": {},
     "output_type": "execute_result"
    }
   ],
   "source": [
    "H = Highchart()\n",
    "data1 = [123781,580,5032,2961,11199,4046,5220,1613262,1401,\n",
    "         2011,2230,676,35908,704,18371,774,1354,4420,\n",
    "         96544,165358,565301,12549,939,2291,5158,2285]\n",
    "options = {\n",
    "\t'title': {\n",
    "        'text': \"Distribution de Chiffre d'affaire par ville\"\n",
    "    },\n",
    "    'xAxis': {\n",
    "        'categories': ['ANTONY', 'AUBERVILLIERS', 'AVRAINVILLE', 'BEZONS',\n",
    "                       'BUC','CHAILLY EN BIERE','CHATENOY','CHEVILLY LARUE',\n",
    "                       'CLICHY','GENNEVILLIERS','IVRY SUR SEINE','LEVALLOIS PERRET',\n",
    "                       'LISSES','MEAUX','MERE','NEUILLY PLAISANCE',\n",
    "                       'NEUILLY SUR SEINE','OISSERY',\n",
    "                       'ORLY','PARIS','RUNGIS','SAULX LES CHARTREUX','ST ARNOULT EN YVELINES'\n",
    "                       'ST DENIS','TRILPORT','VERSAILLES'],\n",
    "        'title': {\n",
    "            'text': None\n",
    "        }\n",
    "    },\n",
    "    'yAxis': {\n",
    "        'min': 0,\n",
    "        'title': {\n",
    "            'text': \" Chiffre d'affaire(€)\",\n",
    "            'align': 'high'\n",
    "        },\n",
    "        'labels': {\n",
    "            'overflow': 'justify'\n",
    "        }\n",
    "    },\n",
    "    'tooltip': {\n",
    "        'valueSuffix': ' €'\n",
    "    },\n",
    "    'legend': {\n",
    "        'layout': 'vertical',\n",
    "        'align': 'right',\n",
    "        'verticalAlign': 'top',\n",
    "        'x': -40,\n",
    "        'y': 80,\n",
    "        'floating': True,\n",
    "        'borderWidth': 1,\n",
    "        'backgroundColor': \"((Highcharts.theme && Highcharts.theme.legendBackgroundColor) || '#FFFFFF')\",\n",
    "        'shadow': True\n",
    "    },\n",
    "    'credits': {\n",
    "        'enabled': False\n",
    "    },\n",
    "    'plotOptions': {\n",
    "        'bar': {\n",
    "            'dataLabels': {\n",
    "                'enabled': True\n",
    "            }\n",
    "        }\n",
    "    }\n",
    "}\n",
    "\n",
    "H.set_dict_options(options)\n",
    "\n",
    "H.add_data_set(data1, 'bar',\"CA\")\n",
    "H"
   ]
  },
  {
   "cell_type": "code",
   "execution_count": 85,
   "metadata": {},
   "outputs": [
    {
     "data": {
      "application/vnd.plotly.v1+json": {
       "config": {
        "plotlyServerURL": "https://plot.ly"
       },
       "data": [
        {
         "marker": {
          "line": {
           "color": "black"
          }
         },
         "type": "bar",
         "x": [
          "ANTONY",
          "AUBERVILLIERS",
          "AVRAINVILLE",
          "BEZONS",
          "BUC",
          "CHAILLY EN BIERE",
          "CHATENOY",
          "CHEVILLY LARUE",
          "CLICHY",
          "GENNEVILLIERS",
          "IVRY SUR SEINE",
          "LEVALLOIS PERRET",
          "LISSES",
          "MEAUX",
          "MERE",
          "NEUILLY PLAISANCE",
          "NEUILLY SUR SEINE",
          "OISSERY",
          "ORLY",
          "PARIS",
          "RUNGIS",
          "SAULX LES CHARTREUX",
          "ST ARNOULT EN YVELINES",
          "ST DENIS",
          "TRILPORT",
          "VERSAILLES"
         ],
         "y": [
          123781,
          580,
          5032,
          2961,
          11199,
          4046,
          5220,
          1613262,
          1401,
          2011,
          2230,
          676,
          35908,
          704,
          18371,
          774,
          1354,
          4420,
          96544,
          165358,
          565301,
          12549,
          939,
          1291,
          5158,
          2285
         ]
        }
       ],
       "layout": {
        "template": {
         "data": {
          "scatter": [
           {
            "type": "scatter"
           }
          ]
         }
        },
        "title": {
         "text": "Distribution de Chiffre d'affaire FL par ville "
        }
       }
      },
      "text/html": [
       "<div>                            <div id=\"2e035d60-56c6-4883-923b-1fa5418331e7\" class=\"plotly-graph-div\" style=\"height:525px; width:100%;\"></div>            <script type=\"text/javascript\">                require([\"plotly\"], function(Plotly) {                    window.PLOTLYENV=window.PLOTLYENV || {};                                    if (document.getElementById(\"2e035d60-56c6-4883-923b-1fa5418331e7\")) {                    Plotly.newPlot(                        \"2e035d60-56c6-4883-923b-1fa5418331e7\",                        [{\"marker\": {\"line\": {\"color\": \"black\"}}, \"type\": \"bar\", \"x\": [\"ANTONY\", \"AUBERVILLIERS\", \"AVRAINVILLE\", \"BEZONS\", \"BUC\", \"CHAILLY EN BIERE\", \"CHATENOY\", \"CHEVILLY LARUE\", \"CLICHY\", \"GENNEVILLIERS\", \"IVRY SUR SEINE\", \"LEVALLOIS PERRET\", \"LISSES\", \"MEAUX\", \"MERE\", \"NEUILLY PLAISANCE\", \"NEUILLY SUR SEINE\", \"OISSERY\", \"ORLY\", \"PARIS\", \"RUNGIS\", \"SAULX LES CHARTREUX\", \"ST ARNOULT EN YVELINES\", \"ST DENIS\", \"TRILPORT\", \"VERSAILLES\"], \"y\": [123781, 580, 5032, 2961, 11199, 4046, 5220, 1613262, 1401, 2011, 2230, 676, 35908, 704, 18371, 774, 1354, 4420, 96544, 165358, 565301, 12549, 939, 1291, 5158, 2285]}],                        {\"template\": {\"data\": {\"scatter\": [{\"type\": \"scatter\"}]}}, \"title\": {\"text\": \"Distribution de Chiffre d'affaire FL par ville \"}},                        {\"responsive\": true}                    ).then(function(){\n",
       "                            \n",
       "var gd = document.getElementById('2e035d60-56c6-4883-923b-1fa5418331e7');\n",
       "var x = new MutationObserver(function (mutations, observer) {{\n",
       "        var display = window.getComputedStyle(gd).display;\n",
       "        if (!display || display === 'none') {{\n",
       "            console.log([gd, 'removed!']);\n",
       "            Plotly.purge(gd);\n",
       "            observer.disconnect();\n",
       "        }}\n",
       "}});\n",
       "\n",
       "// Listen for the removal of the full notebook cells\n",
       "var notebookContainer = gd.closest('#notebook-container');\n",
       "if (notebookContainer) {{\n",
       "    x.observe(notebookContainer, {childList: true});\n",
       "}}\n",
       "\n",
       "// Listen for the clearing of the current output cell\n",
       "var outputEl = gd.closest('.output');\n",
       "if (outputEl) {{\n",
       "    x.observe(outputEl, {childList: true});\n",
       "}}\n",
       "\n",
       "                        })                };                });            </script>        </div>"
      ]
     },
     "metadata": {},
     "output_type": "display_data"
    }
   ],
   "source": [
    "dataset_ville = data.groupby(['VILLE']).agg({'FL':'sum'}).reset_index()\n",
    "fig = go.Figure(data=go.Bar(x=dataset_ville['VILLE'], y=dataset_ville['FL']))\n",
    "fig.layout.title.text = \"Distribution de Chiffre d'affaire FL par ville \"\n",
    "fig.data[0].marker.line.color = \"black\"\n",
    "fig.show()"
   ]
  },
  {
   "cell_type": "markdown",
   "metadata": {},
   "source": [
    "#CHEVILLY_LARUE : première ville "
   ]
  },
  {
   "cell_type": "code",
   "execution_count": 86,
   "metadata": {},
   "outputs": [
    {
     "data": {
      "application/vnd.plotly.v1+json": {
       "config": {
        "plotlyServerURL": "https://plot.ly"
       },
       "data": [
        {
         "marker": {
          "line": {
           "color": "black"
          }
         },
         "type": "bar",
         "x": [
          "FRUITS DU MONDE",
          "CHRONOPRIMEURS",
          "DISTRIBUTION EXPRESSE A VOCATION ALIMENTAIRE SODIEXVAL (STE DE...)",
          "CAPEXO",
          "PIERRE DESMETTRE ET FILS (ETS...)",
          "DEL MONTE FRANCE",
          "VINAS",
          "BC PRIM",
          "SPEIR - STE PARISIENNE EXPORT IMPORT REPARTITION",
          "HALLES MANDAR",
          "BESSON ET ALAPONT (ETS...)",
          "BLAMPIN FRUITS IMPORT RUNGIS",
          "NETA",
          "JH",
          "BRATIGNY",
          "MACEO DISTRIBUTION",
          "SELECT AGRUMES",
          "PRIERE ET ZAHLER FRERES",
          "CRUCHAUDET - GRANDJEAN",
          "BANAGRUMES",
          "FRELICOT",
          "BONABIO",
          "BEVA FRUITS INTERNATIONAL",
          "BALEUX (ETS...)",
          "MONLOUP (ETS...)",
          "ROUX (ETS...)",
          "HM DISTRIBUTION",
          "PUECH MONTANA",
          "MG PRIMEURS",
          "CAZALIS",
          "LEBLANC ET SERRE",
          "PDM",
          "MOOREA COMMERCE FRUITS",
          "BESSON FRERES",
          "GBS",
          "DAUMESNIL PRIMEURS",
          "MIGHIRIAN FRERES",
          "BONIFACCI FRERES",
          "HALLES ORLY SUD",
          "PRIMEURS SAINT DENIS",
          "EXOTICA",
          "AMS EUROPEAN",
          "PARIS AIL",
          "RAFAEL LOPEZ",
          "ELITE FRUITS",
          "EXO 3",
          "ADM PRIMEURS",
          "MOUNEYRAC FRERES",
          "PRIMEUROPE IMPORT ET EXPORT",
          "BARNIER",
          "LLISO FRERES BANANES FRUITS PRIMEURS",
          "PRIMOUEST IMPEX",
          "COICAULT THOMAS",
          "CHAMPARIS",
          "SANCHO FRUITS",
          "LA POM'ROSE",
          "PRIMEUR SERVICES DISTRIBUTION",
          "AGRUBAN",
          "ASIA GROUP",
          "SOLANES (ETS...)",
          "PAUL PRIMEURS",
          "DJSMM",
          "MAGNIER (ETS...)",
          "OLIVER (ETS...)",
          "ELQUI IMPORT",
          "LUKY FRUITS",
          "LES JARDINS D'ALBERT",
          "ANDRADE DISTRIBUTION",
          "LES VERGERS CHRISTOLIENS - ETS F REBIFFE",
          "CAPOSUD",
          "PSL FRANCE",
          "PARIS SAVEURS",
          "PAMARTE",
          "RIVIERA",
          "MICHELLE MAUDUIT (ETS...)",
          "JULMAT PRIMEURS",
          "PARIS SELECT",
          "LEGUERINAIS PRIMEURS",
          "ATOM APPROVISIONNEMENTS TRAFIC OUTRE MER",
          "L'HARMEROULT ET CUET",
          "PE-WE",
          "FRESAL",
          "CENTRE FRUITS",
          "KOTE SAVEURS",
          "TROPIBANA",
          "MED'ESSOR FRANCE",
          "FINANCIERE DE DISTRIBUTION ALIMENTAIRE COFIDA (CIE...)",
          "GUILLEMARD (ETS...)",
          "EDOUARD BIDAULT (ETS...)",
          "THIRION FRUITS ET LEGUMES (ETS...)",
          "ROMAPRIM",
          "SNDE STE NOUVELLE DREVIN EXOTICS",
          "ANAREX",
          "IMPERIAL",
          "EXCEL DISTRIBUTION",
          "MORATAL",
          "FRUTILAND",
          "FENES",
          "LA TABLE DE ROLAND",
          "DESMETTRE BIO",
          "SOFIPRIM",
          "AUX CHAMPIGNONS DES BOIS",
          "CAPEXO SERVICES",
          "CAPEXO FROID",
          "DANGA EXOTIC"
         ],
         "y": [
          87421,
          62193,
          54712,
          53688,
          53086,
          50151,
          47464,
          43694,
          43395,
          37684,
          35883,
          34480,
          31057,
          28831,
          27178,
          25818,
          25558,
          24506,
          24387,
          21512,
          18759,
          18709,
          18301,
          17986,
          17714,
          17034,
          17014,
          16909,
          16853,
          16544,
          15796,
          15646,
          15630,
          15459,
          15397,
          15249,
          14869,
          14597,
          14517,
          14259,
          14141,
          13940,
          13818,
          13508,
          13451,
          13320,
          12157,
          12117,
          12005,
          11609,
          11416,
          11395,
          11118,
          11103,
          10462,
          10167,
          10082,
          10015,
          10009,
          9949,
          9775,
          9670,
          9189,
          8755,
          8513,
          8341,
          8165,
          7834,
          7729,
          7506,
          7304,
          7292,
          6741,
          6573,
          6402,
          6300,
          6263,
          6247,
          5916,
          5647,
          5646,
          5353,
          5273,
          5102,
          4976,
          4968,
          4959,
          4745,
          4281,
          4264,
          4183,
          4061,
          3882,
          3693,
          3648,
          2992,
          2734,
          2556,
          2194,
          1936,
          1424,
          1388,
          1143,
          1040,
          937
         ]
        }
       ],
       "layout": {
        "template": {
         "data": {
          "scatter": [
           {
            "type": "scatter"
           }
          ]
         }
        },
        "title": {
         "text": " Chiffre d'affaire FL des fournisseurs de la ville CHEVILLY LARUE "
        }
       }
      },
      "text/html": [
       "<div>                            <div id=\"39b989df-986b-4872-80b6-1e5e7728ea09\" class=\"plotly-graph-div\" style=\"height:525px; width:100%;\"></div>            <script type=\"text/javascript\">                require([\"plotly\"], function(Plotly) {                    window.PLOTLYENV=window.PLOTLYENV || {};                                    if (document.getElementById(\"39b989df-986b-4872-80b6-1e5e7728ea09\")) {                    Plotly.newPlot(                        \"39b989df-986b-4872-80b6-1e5e7728ea09\",                        [{\"marker\": {\"line\": {\"color\": \"black\"}}, \"type\": \"bar\", \"x\": [\"FRUITS DU MONDE\", \"CHRONOPRIMEURS\", \"DISTRIBUTION EXPRESSE A VOCATION ALIMENTAIRE SODIEXVAL (STE DE...)\", \"CAPEXO\", \"PIERRE DESMETTRE ET FILS (ETS...)\", \"DEL MONTE FRANCE\", \"VINAS\", \"BC PRIM\", \"SPEIR - STE PARISIENNE EXPORT IMPORT REPARTITION\", \"HALLES MANDAR\", \"BESSON ET ALAPONT (ETS...)\", \"BLAMPIN FRUITS IMPORT RUNGIS\", \"NETA\", \"JH\", \"BRATIGNY\", \"MACEO DISTRIBUTION\", \"SELECT AGRUMES\", \"PRIERE ET ZAHLER FRERES\", \"CRUCHAUDET - GRANDJEAN\", \"BANAGRUMES\", \"FRELICOT\", \"BONABIO\", \"BEVA FRUITS INTERNATIONAL\", \"BALEUX (ETS...)\", \"MONLOUP (ETS...)\", \"ROUX (ETS...)\", \"HM DISTRIBUTION\", \"PUECH MONTANA\", \"MG PRIMEURS\", \"CAZALIS\", \"LEBLANC ET SERRE\", \"PDM\", \"MOOREA COMMERCE FRUITS\", \"BESSON FRERES\", \"GBS\", \"DAUMESNIL PRIMEURS\", \"MIGHIRIAN FRERES\", \"BONIFACCI FRERES\", \"HALLES ORLY SUD\", \"PRIMEURS SAINT DENIS\", \"EXOTICA\", \"AMS EUROPEAN\", \"PARIS AIL\", \"RAFAEL LOPEZ\", \"ELITE FRUITS\", \"EXO 3\", \"ADM PRIMEURS\", \"MOUNEYRAC FRERES\", \"PRIMEUROPE IMPORT ET EXPORT\", \"BARNIER\", \"LLISO FRERES BANANES FRUITS PRIMEURS\", \"PRIMOUEST IMPEX\", \"COICAULT THOMAS\", \"CHAMPARIS\", \"SANCHO FRUITS\", \"LA POM'ROSE\", \"PRIMEUR SERVICES DISTRIBUTION\", \"AGRUBAN\", \"ASIA GROUP\", \"SOLANES (ETS...)\", \"PAUL PRIMEURS\", \"DJSMM\", \"MAGNIER (ETS...)\", \"OLIVER (ETS...)\", \"ELQUI IMPORT\", \"LUKY FRUITS\", \"LES JARDINS D'ALBERT\", \"ANDRADE DISTRIBUTION\", \"LES VERGERS CHRISTOLIENS - ETS F REBIFFE\", \"CAPOSUD\", \"PSL FRANCE\", \"PARIS SAVEURS\", \"PAMARTE\", \"RIVIERA\", \"MICHELLE MAUDUIT (ETS...)\", \"JULMAT PRIMEURS\", \"PARIS SELECT\", \"LEGUERINAIS PRIMEURS\", \"ATOM APPROVISIONNEMENTS TRAFIC OUTRE MER\", \"L'HARMEROULT ET CUET\", \"PE-WE\", \"FRESAL\", \"CENTRE FRUITS\", \"KOTE SAVEURS\", \"TROPIBANA\", \"MED'ESSOR FRANCE\", \"FINANCIERE DE DISTRIBUTION ALIMENTAIRE COFIDA (CIE...)\", \"GUILLEMARD (ETS...)\", \"EDOUARD BIDAULT (ETS...)\", \"THIRION FRUITS ET LEGUMES (ETS...)\", \"ROMAPRIM\", \"SNDE STE NOUVELLE DREVIN EXOTICS\", \"ANAREX\", \"IMPERIAL\", \"EXCEL DISTRIBUTION\", \"MORATAL\", \"FRUTILAND\", \"FENES\", \"LA TABLE DE ROLAND\", \"DESMETTRE BIO\", \"SOFIPRIM\", \"AUX CHAMPIGNONS DES BOIS\", \"CAPEXO SERVICES\", \"CAPEXO FROID\", \"DANGA EXOTIC\"], \"y\": [87421, 62193, 54712, 53688, 53086, 50151, 47464, 43694, 43395, 37684, 35883, 34480, 31057, 28831, 27178, 25818, 25558, 24506, 24387, 21512, 18759, 18709, 18301, 17986, 17714, 17034, 17014, 16909, 16853, 16544, 15796, 15646, 15630, 15459, 15397, 15249, 14869, 14597, 14517, 14259, 14141, 13940, 13818, 13508, 13451, 13320, 12157, 12117, 12005, 11609, 11416, 11395, 11118, 11103, 10462, 10167, 10082, 10015, 10009, 9949, 9775, 9670, 9189, 8755, 8513, 8341, 8165, 7834, 7729, 7506, 7304, 7292, 6741, 6573, 6402, 6300, 6263, 6247, 5916, 5647, 5646, 5353, 5273, 5102, 4976, 4968, 4959, 4745, 4281, 4264, 4183, 4061, 3882, 3693, 3648, 2992, 2734, 2556, 2194, 1936, 1424, 1388, 1143, 1040, 937]}],                        {\"template\": {\"data\": {\"scatter\": [{\"type\": \"scatter\"}]}}, \"title\": {\"text\": \" Chiffre d'affaire FL des fournisseurs de la ville CHEVILLY LARUE \"}},                        {\"responsive\": true}                    ).then(function(){\n",
       "                            \n",
       "var gd = document.getElementById('39b989df-986b-4872-80b6-1e5e7728ea09');\n",
       "var x = new MutationObserver(function (mutations, observer) {{\n",
       "        var display = window.getComputedStyle(gd).display;\n",
       "        if (!display || display === 'none') {{\n",
       "            console.log([gd, 'removed!']);\n",
       "            Plotly.purge(gd);\n",
       "            observer.disconnect();\n",
       "        }}\n",
       "}});\n",
       "\n",
       "// Listen for the removal of the full notebook cells\n",
       "var notebookContainer = gd.closest('#notebook-container');\n",
       "if (notebookContainer) {{\n",
       "    x.observe(notebookContainer, {childList: true});\n",
       "}}\n",
       "\n",
       "// Listen for the clearing of the current output cell\n",
       "var outputEl = gd.closest('.output');\n",
       "if (outputEl) {{\n",
       "    x.observe(outputEl, {childList: true});\n",
       "}}\n",
       "\n",
       "                        })                };                });            </script>        </div>"
      ]
     },
     "metadata": {},
     "output_type": "display_data"
    }
   ],
   "source": [
    "dataset_CHEVILLY_LARUE = data.loc[data['VILLE']=='CHEVILLY LARUE']\n",
    "fig = go.Figure(data=go.Bar(x=dataset_CHEVILLY_LARUE['RAISONSOCIALE'], y=dataset_CHEVILLY_LARUE['FL']))\n",
    "fig.layout.title.text = \" Chiffre d'affaire FL des fournisseurs de la ville CHEVILLY LARUE \"\n",
    "fig.data[0].marker.line.color = \"black\"\n",
    "fig.show()"
   ]
  },
  {
   "cell_type": "markdown",
   "metadata": {},
   "source": [
    "#RUNGIS : deuxième ville "
   ]
  },
  {
   "cell_type": "code",
   "execution_count": 87,
   "metadata": {},
   "outputs": [
    {
     "data": {
      "application/vnd.plotly.v1+json": {
       "config": {
        "plotlyServerURL": "https://plot.ly"
       },
       "data": [
        {
         "marker": {
          "line": {
           "color": "black"
          }
         },
         "type": "bar",
         "x": [
          "FRUITIERE FRANCE (CIE...)",
          "GREENYARD FRESH FRANCE",
          "SIIM - STE INTERNATIONALE D'IMPORTATION",
          "GEORGES HELFER SA FRANCE",
          "GROUPE DYNAMIS",
          "COMMERCIAL FRUITS",
          "RG FRANCE",
          "HALLES PARIS SUD",
          "MAGELLAN",
          "BIOALIZE",
          "PROMAFRUIT",
          "PRIM'FRUIT",
          "PRODISCO",
          "SUN 7 FRUITS",
          "FRAICHE PRIMEURS",
          "PARIS PASSION FRAIS",
          "LES VERGERS DE BOULOGNE"
         ],
         "y": [
          141014,
          98869,
          97012,
          86741,
          30060,
          25526,
          16686,
          10976,
          10897,
          8656,
          7985,
          7969,
          7689,
          5815,
          4849,
          2957,
          1600
         ]
        }
       ],
       "layout": {
        "template": {
         "data": {
          "scatter": [
           {
            "type": "scatter"
           }
          ]
         }
        },
        "title": {
         "text": " Chiffre d'affaire FL des fournisseurs de la ville RUNGIS "
        }
       }
      },
      "text/html": [
       "<div>                            <div id=\"c3aa7a8c-3d04-4e81-8711-6b65a44005da\" class=\"plotly-graph-div\" style=\"height:525px; width:100%;\"></div>            <script type=\"text/javascript\">                require([\"plotly\"], function(Plotly) {                    window.PLOTLYENV=window.PLOTLYENV || {};                                    if (document.getElementById(\"c3aa7a8c-3d04-4e81-8711-6b65a44005da\")) {                    Plotly.newPlot(                        \"c3aa7a8c-3d04-4e81-8711-6b65a44005da\",                        [{\"marker\": {\"line\": {\"color\": \"black\"}}, \"type\": \"bar\", \"x\": [\"FRUITIERE FRANCE (CIE...)\", \"GREENYARD FRESH FRANCE\", \"SIIM - STE INTERNATIONALE D'IMPORTATION\", \"GEORGES HELFER SA FRANCE\", \"GROUPE DYNAMIS\", \"COMMERCIAL FRUITS\", \"RG FRANCE\", \"HALLES PARIS SUD\", \"MAGELLAN\", \"BIOALIZE\", \"PROMAFRUIT\", \"PRIM'FRUIT\", \"PRODISCO\", \"SUN 7 FRUITS\", \"FRAICHE PRIMEURS\", \"PARIS PASSION FRAIS\", \"LES VERGERS DE BOULOGNE\"], \"y\": [141014, 98869, 97012, 86741, 30060, 25526, 16686, 10976, 10897, 8656, 7985, 7969, 7689, 5815, 4849, 2957, 1600]}],                        {\"template\": {\"data\": {\"scatter\": [{\"type\": \"scatter\"}]}}, \"title\": {\"text\": \" Chiffre d'affaire FL des fournisseurs de la ville RUNGIS \"}},                        {\"responsive\": true}                    ).then(function(){\n",
       "                            \n",
       "var gd = document.getElementById('c3aa7a8c-3d04-4e81-8711-6b65a44005da');\n",
       "var x = new MutationObserver(function (mutations, observer) {{\n",
       "        var display = window.getComputedStyle(gd).display;\n",
       "        if (!display || display === 'none') {{\n",
       "            console.log([gd, 'removed!']);\n",
       "            Plotly.purge(gd);\n",
       "            observer.disconnect();\n",
       "        }}\n",
       "}});\n",
       "\n",
       "// Listen for the removal of the full notebook cells\n",
       "var notebookContainer = gd.closest('#notebook-container');\n",
       "if (notebookContainer) {{\n",
       "    x.observe(notebookContainer, {childList: true});\n",
       "}}\n",
       "\n",
       "// Listen for the clearing of the current output cell\n",
       "var outputEl = gd.closest('.output');\n",
       "if (outputEl) {{\n",
       "    x.observe(outputEl, {childList: true});\n",
       "}}\n",
       "\n",
       "                        })                };                });            </script>        </div>"
      ]
     },
     "metadata": {},
     "output_type": "display_data"
    }
   ],
   "source": [
    "dataset_RUNGIS = data.loc[data['VILLE']=='RUNGIS']\n",
    "fig = go.Figure(data=go.Bar(x=dataset_RUNGIS['RAISONSOCIALE'], y=dataset_RUNGIS['FL']))\n",
    "fig.layout.title.text = \" Chiffre d'affaire FL des fournisseurs de la ville RUNGIS \"\n",
    "fig.data[0].marker.line.color = \"black\"\n",
    "fig.show()"
   ]
  },
  {
   "cell_type": "code",
   "execution_count": 88,
   "metadata": {},
   "outputs": [
    {
     "data": {
      "application/vnd.plotly.v1+json": {
       "config": {
        "plotlyServerURL": "https://plot.ly"
       },
       "data": [
        {
         "marker": {
          "line": {
           "color": "black"
          }
         },
         "type": "bar",
         "x": [
          "FRUITIERE FRANCE (CIE...)",
          "GREENYARD FRESH FRANCE",
          "SIIM - STE INTERNATIONALE D'IMPORTATION",
          "VOICEVALE FRANCE",
          "FRUITS DU MONDE",
          "POM ALLIANCE",
          "GEORGES HELFER SA FRANCE",
          "POMONA IMPORT",
          "CHRONOPRIMEURS",
          "DISTRIBUTION EXPRESSE A VOCATION ALIMENTAIRE SODIEXVAL (STE DE...)"
         ],
         "y": [
          141014,
          98869,
          97012,
          95441,
          87421,
          86926,
          86741,
          68231,
          62193,
          54712
         ]
        }
       ],
       "layout": {
        "template": {
         "data": {
          "scatter": [
           {
            "type": "scatter"
           }
          ]
         }
        },
        "title": {
         "text": "Les ventes de 10 premiers fournisseurs en fruits et légumes "
        }
       }
      },
      "text/html": [
       "<div>                            <div id=\"421ed3f4-e88e-494b-af20-55a0121341ee\" class=\"plotly-graph-div\" style=\"height:525px; width:100%;\"></div>            <script type=\"text/javascript\">                require([\"plotly\"], function(Plotly) {                    window.PLOTLYENV=window.PLOTLYENV || {};                                    if (document.getElementById(\"421ed3f4-e88e-494b-af20-55a0121341ee\")) {                    Plotly.newPlot(                        \"421ed3f4-e88e-494b-af20-55a0121341ee\",                        [{\"marker\": {\"line\": {\"color\": \"black\"}}, \"type\": \"bar\", \"x\": [\"FRUITIERE FRANCE (CIE...)\", \"GREENYARD FRESH FRANCE\", \"SIIM - STE INTERNATIONALE D'IMPORTATION\", \"VOICEVALE FRANCE\", \"FRUITS DU MONDE\", \"POM ALLIANCE\", \"GEORGES HELFER SA FRANCE\", \"POMONA IMPORT\", \"CHRONOPRIMEURS\", \"DISTRIBUTION EXPRESSE A VOCATION ALIMENTAIRE SODIEXVAL (STE DE...)\"], \"y\": [141014, 98869, 97012, 95441, 87421, 86926, 86741, 68231, 62193, 54712]}],                        {\"template\": {\"data\": {\"scatter\": [{\"type\": \"scatter\"}]}}, \"title\": {\"text\": \"Les ventes de 10 premiers fournisseurs en fruits et l\\u00e9gumes \"}},                        {\"responsive\": true}                    ).then(function(){\n",
       "                            \n",
       "var gd = document.getElementById('421ed3f4-e88e-494b-af20-55a0121341ee');\n",
       "var x = new MutationObserver(function (mutations, observer) {{\n",
       "        var display = window.getComputedStyle(gd).display;\n",
       "        if (!display || display === 'none') {{\n",
       "            console.log([gd, 'removed!']);\n",
       "            Plotly.purge(gd);\n",
       "            observer.disconnect();\n",
       "        }}\n",
       "}});\n",
       "\n",
       "// Listen for the removal of the full notebook cells\n",
       "var notebookContainer = gd.closest('#notebook-container');\n",
       "if (notebookContainer) {{\n",
       "    x.observe(notebookContainer, {childList: true});\n",
       "}}\n",
       "\n",
       "// Listen for the clearing of the current output cell\n",
       "var outputEl = gd.closest('.output');\n",
       "if (outputEl) {{\n",
       "    x.observe(outputEl, {childList: true});\n",
       "}}\n",
       "\n",
       "                        })                };                });            </script>        </div>"
      ]
     },
     "metadata": {},
     "output_type": "display_data"
    }
   ],
   "source": [
    "fig = go.Figure(data=go.Bar(x=data['RAISONSOCIALE'][:10], y=data['FL'][:10]))\n",
    "fig.layout.title.text = \"Les ventes de 10 premiers fournisseurs en fruits et légumes \"\n",
    "fig.data[0].marker.line.color = \"black\"\n",
    "fig.show()\n",
    "#Les trois premières font partis de la ville Rungis "
   ]
  },
  {
   "cell_type": "code",
   "execution_count": 89,
   "metadata": {},
   "outputs": [
    {
     "data": {
      "application/vnd.plotly.v1+json": {
       "config": {
        "plotlyServerURL": "https://plot.ly"
       },
       "data": [
        {
         "marker": {
          "line": {
           "color": "black"
          }
         },
         "type": "bar",
         "x": [
          "LE PRIMEUR DU SQUARE",
          "CAPEXO SERVICES",
          "CAPEXO FROID",
          "O'BO MANGO",
          "DANGA EXOTIC",
          "CAPESPAN",
          "A TOUT FRUITS",
          "SECRET DU PORTUGAL 2",
          "MZ PRIMEURS",
          "AUBER PRIMEURS"
         ],
         "y": [
          1291,
          1143,
          1040,
          939,
          937,
          845,
          774,
          704,
          676,
          580
         ]
        }
       ],
       "layout": {
        "template": {
         "data": {
          "scatter": [
           {
            "type": "scatter"
           }
          ]
         }
        },
        "title": {
         "text": "Les ventes de 10 derniers fournisseurs en fruits et légumes "
        }
       }
      },
      "text/html": [
       "<div>                            <div id=\"5bf879d6-a094-48f1-822c-aa05bc395071\" class=\"plotly-graph-div\" style=\"height:525px; width:100%;\"></div>            <script type=\"text/javascript\">                require([\"plotly\"], function(Plotly) {                    window.PLOTLYENV=window.PLOTLYENV || {};                                    if (document.getElementById(\"5bf879d6-a094-48f1-822c-aa05bc395071\")) {                    Plotly.newPlot(                        \"5bf879d6-a094-48f1-822c-aa05bc395071\",                        [{\"marker\": {\"line\": {\"color\": \"black\"}}, \"type\": \"bar\", \"x\": [\"LE PRIMEUR DU SQUARE\", \"CAPEXO SERVICES\", \"CAPEXO FROID\", \"O'BO MANGO\", \"DANGA EXOTIC\", \"CAPESPAN\", \"A TOUT FRUITS\", \"SECRET DU PORTUGAL 2\", \"MZ PRIMEURS\", \"AUBER PRIMEURS\"], \"y\": [1291, 1143, 1040, 939, 937, 845, 774, 704, 676, 580]}],                        {\"template\": {\"data\": {\"scatter\": [{\"type\": \"scatter\"}]}}, \"title\": {\"text\": \"Les ventes de 10 derniers fournisseurs en fruits et l\\u00e9gumes \"}},                        {\"responsive\": true}                    ).then(function(){\n",
       "                            \n",
       "var gd = document.getElementById('5bf879d6-a094-48f1-822c-aa05bc395071');\n",
       "var x = new MutationObserver(function (mutations, observer) {{\n",
       "        var display = window.getComputedStyle(gd).display;\n",
       "        if (!display || display === 'none') {{\n",
       "            console.log([gd, 'removed!']);\n",
       "            Plotly.purge(gd);\n",
       "            observer.disconnect();\n",
       "        }}\n",
       "}});\n",
       "\n",
       "// Listen for the removal of the full notebook cells\n",
       "var notebookContainer = gd.closest('#notebook-container');\n",
       "if (notebookContainer) {{\n",
       "    x.observe(notebookContainer, {childList: true});\n",
       "}}\n",
       "\n",
       "// Listen for the clearing of the current output cell\n",
       "var outputEl = gd.closest('.output');\n",
       "if (outputEl) {{\n",
       "    x.observe(outputEl, {childList: true});\n",
       "}}\n",
       "\n",
       "                        })                };                });            </script>        </div>"
      ]
     },
     "metadata": {},
     "output_type": "display_data"
    }
   ],
   "source": [
    "fig = go.Figure(data=go.Bar(x=data['RAISONSOCIALE'][-10:], y=data['FL'][-10:]))\n",
    "fig.layout.title.text = \"Les ventes de 10 derniers fournisseurs en fruits et légumes \"\n",
    "fig.data[0].marker.line.color = \"black\"\n",
    "fig.show()"
   ]
  },
  {
   "cell_type": "markdown",
   "metadata": {},
   "source": [
    "#chiffre d'affaire des fournisseurs par date de création "
   ]
  },
  {
   "cell_type": "code",
   "execution_count": 90,
   "metadata": {},
   "outputs": [
    {
     "data": {
      "application/vnd.plotly.v1+json": {
       "config": {
        "linkText": "Export to plot.ly",
        "plotlyServerURL": "https://plot.ly",
        "showLink": false
       },
       "data": [
        {
         "name": "A TOUT FRUITS",
         "type": "scatter",
         "x": [
          2012
         ],
         "y": [
          774
         ]
        },
        {
         "name": "ACS",
         "type": "scatter",
         "x": [
          2011
         ],
         "y": [
          5158
         ]
        },
        {
         "name": "ADM PRIMEURS",
         "type": "scatter",
         "x": [
          2017
         ],
         "y": [
          12157
         ]
        },
        {
         "name": "AGRUBAN",
         "type": "scatter",
         "x": [
          2008
         ],
         "y": [
          10015
         ]
        },
        {
         "name": "AMS EUROPEAN",
         "type": "scatter",
         "x": [
          2004
         ],
         "y": [
          13940
         ]
        },
        {
         "name": "ANAREX",
         "type": "scatter",
         "x": [
          1988
         ],
         "y": [
          3882
         ]
        },
        {
         "name": "ANDRADE DISTRIBUTION",
         "type": "scatter",
         "x": [
          2003
         ],
         "y": [
          7834
         ]
        },
        {
         "name": "ASIA GROUP",
         "type": "scatter",
         "x": [
          2010
         ],
         "y": [
          10009
         ]
        },
        {
         "name": "ATOM APPROVISIONNEMENTS TRAFIC OUTRE MER",
         "type": "scatter",
         "x": [
          1994
         ],
         "y": [
          5916
         ]
        },
        {
         "name": "AUBER PRIMEURS",
         "type": "scatter",
         "x": [
          1987
         ],
         "y": [
          580
         ]
        },
        {
         "name": "AUX CHAMPIGNONS DES BOIS",
         "type": "scatter",
         "x": [
          2017
         ],
         "y": [
          1388
         ]
        },
        {
         "name": "AVON",
         "type": "scatter",
         "x": [
          1985
         ],
         "y": [
          13592
         ]
        },
        {
         "name": "BALEUX (ETS...)",
         "type": "scatter",
         "x": [
          1969
         ],
         "y": [
          17986
         ]
        },
        {
         "name": "BANAGRUMES",
         "type": "scatter",
         "x": [
          1970
         ],
         "y": [
          21512
         ]
        },
        {
         "name": "BARNIER",
         "type": "scatter",
         "x": [
          1996
         ],
         "y": [
          11609
         ]
        },
        {
         "name": "BC PRIM",
         "type": "scatter",
         "x": [
          1993
         ],
         "y": [
          43694
         ]
        },
        {
         "name": "BESSON ET ALAPONT (ETS...)",
         "type": "scatter",
         "x": [
          1956
         ],
         "y": [
          35883
         ]
        },
        {
         "name": "BESSON FRERES",
         "type": "scatter",
         "x": [
          2013
         ],
         "y": [
          15459
         ]
        },
        {
         "name": "BEVA FRUITS INTERNATIONAL",
         "type": "scatter",
         "x": [
          2002
         ],
         "y": [
          18301
         ]
        },
        {
         "name": "BIOALIZE",
         "type": "scatter",
         "x": [
          1995
         ],
         "y": [
          8656
         ]
        },
        {
         "name": "BLAMPIN FRUITS IMPORT RUNGIS",
         "type": "scatter",
         "x": [
          2004
         ],
         "y": [
          34480
         ]
        },
        {
         "name": "BONABIO",
         "type": "scatter",
         "x": [
          2017
         ],
         "y": [
          18709
         ]
        },
        {
         "name": "BONIFACCI FRERES",
         "type": "scatter",
         "x": [
          1988
         ],
         "y": [
          14597
         ]
        },
        {
         "name": "BRATIGNY",
         "type": "scatter",
         "x": [
          1957
         ],
         "y": [
          27178
         ]
        },
        {
         "name": "CAPESPAN",
         "type": "scatter",
         "x": [
          1965
         ],
         "y": [
          845
         ]
        },
        {
         "name": "CAPEXO",
         "type": "scatter",
         "x": [
          1996
         ],
         "y": [
          53688
         ]
        },
        {
         "name": "CAPEXO FROID",
         "type": "scatter",
         "x": [
          2013
         ],
         "y": [
          1040
         ]
        },
        {
         "name": "CAPEXO SERVICES",
         "type": "scatter",
         "x": [
          2004
         ],
         "y": [
          1143
         ]
        },
        {
         "name": "CAPOCCI",
         "type": "scatter",
         "x": [
          1979
         ],
         "y": [
          2285
         ]
        },
        {
         "name": "CAPOSUD",
         "type": "scatter",
         "x": [
          2007
         ],
         "y": [
          7506
         ]
        },
        {
         "name": "CAZALIS",
         "type": "scatter",
         "x": [
          2016
         ],
         "y": [
          16544
         ]
        },
        {
         "name": "CENTRE FRUITS",
         "type": "scatter",
         "x": [
          1986
         ],
         "y": [
          5273
         ]
        },
        {
         "name": "CHAMPARIS",
         "type": "scatter",
         "x": [
          1969
         ],
         "y": [
          11103
         ]
        },
        {
         "name": "CHRONOPRIMEURS",
         "type": "scatter",
         "x": [
          1991
         ],
         "y": [
          62193
         ]
        },
        {
         "name": "COICAULT THOMAS",
         "type": "scatter",
         "x": [
          1957
         ],
         "y": [
          11118
         ]
        },
        {
         "name": "COLOM SUD",
         "type": "scatter",
         "x": [
          2019
         ],
         "y": [
          1354
         ]
        },
        {
         "name": "COMMERCIAL FRUITS",
         "type": "scatter",
         "x": [
          1993
         ],
         "y": [
          25526
         ]
        },
        {
         "name": "CORBEILLES",
         "type": "scatter",
         "x": [
          1998
         ],
         "y": [
          2961
         ]
        },
        {
         "name": "CRUCHAUDET - GRANDJEAN",
         "type": "scatter",
         "x": [
          1983
         ],
         "y": [
          24387
         ]
        },
        {
         "name": "DANGA EXOTIC",
         "type": "scatter",
         "x": [
          2007
         ],
         "y": [
          937
         ]
        },
        {
         "name": "DAUMESNIL PRIMEURS",
         "type": "scatter",
         "x": [
          1992
         ],
         "y": [
          15249
         ]
        },
        {
         "name": "DEL MONTE FRANCE",
         "type": "scatter",
         "x": [
          1980
         ],
         "y": [
          50151
         ]
        },
        {
         "name": "DESMETTRE BIO",
         "type": "scatter",
         "x": [
          2018
         ],
         "y": [
          1936
         ]
        },
        {
         "name": "DISTRIBUTION EXPRESSE A VOCATION ALIMENTAIRE SODIEXVAL (STE DE...)",
         "type": "scatter",
         "x": [
          1985
         ],
         "y": [
          54712
         ]
        },
        {
         "name": "DJSMM",
         "type": "scatter",
         "x": [
          1999
         ],
         "y": [
          9670
         ]
        },
        {
         "name": "EDOUARD BIDAULT (ETS...)",
         "type": "scatter",
         "x": [
          1979
         ],
         "y": [
          4281
         ]
        },
        {
         "name": "ELITE FRUITS",
         "type": "scatter",
         "x": [
          1990
         ],
         "y": [
          13451
         ]
        },
        {
         "name": "ELQUI IMPORT",
         "type": "scatter",
         "x": [
          2007
         ],
         "y": [
          8513
         ]
        },
        {
         "name": "EUROPLANT FRANCE",
         "type": "scatter",
         "x": [
          2001
         ],
         "y": [
          11138
         ]
        },
        {
         "name": "EXCEL DISTRIBUTION",
         "type": "scatter",
         "x": [
          2012
         ],
         "y": [
          3648
         ]
        },
        {
         "name": "EXO 3",
         "type": "scatter",
         "x": [
          2007
         ],
         "y": [
          13320
         ]
        },
        {
         "name": "EXOTICA",
         "type": "scatter",
         "x": [
          2014
         ],
         "y": [
          14141
         ]
        },
        {
         "name": "FENES",
         "type": "scatter",
         "x": [
          1984
         ],
         "y": [
          2556
         ]
        },
        {
         "name": "FINANCIERE DE DISTRIBUTION ALIMENTAIRE COFIDA (CIE...)",
         "type": "scatter",
         "x": [
          1991
         ],
         "y": [
          4959
         ]
        },
        {
         "name": "FRAICHE PRIMEURS",
         "type": "scatter",
         "x": [
          2012
         ],
         "y": [
          4849
         ]
        },
        {
         "name": "FRELICOT",
         "type": "scatter",
         "x": [
          1987
         ],
         "y": [
          18759
         ]
        },
        {
         "name": "FRESAL",
         "type": "scatter",
         "x": [
          2012
         ],
         "y": [
          5353
         ]
        },
        {
         "name": "FRUITIERE FRANCE (CIE...)",
         "type": "scatter",
         "x": [
          1965
         ],
         "y": [
          141014
         ]
        },
        {
         "name": "FRUITS DU MONDE",
         "type": "scatter",
         "x": [
          1993
         ],
         "y": [
          87421
         ]
        },
        {
         "name": "FRUTILAND",
         "type": "scatter",
         "x": [
          2008
         ],
         "y": [
          2734
         ]
        },
        {
         "name": "GBS",
         "type": "scatter",
         "x": [
          1955
         ],
         "y": [
          15397
         ]
        },
        {
         "name": "GEDO",
         "type": "scatter",
         "x": [
          1994
         ],
         "y": [
          1401
         ]
        },
        {
         "name": "GEORGES HELFER SA FRANCE",
         "type": "scatter",
         "x": [
          1956
         ],
         "y": [
          86741
         ]
        },
        {
         "name": "GOETZ",
         "type": "scatter",
         "x": [
          1979
         ],
         "y": [
          12549
         ]
        },
        {
         "name": "GREENYARD FRESH FRANCE",
         "type": "scatter",
         "x": [
          1980
         ],
         "y": [
          98869
         ]
        },
        {
         "name": "GROUPE DYNAMIS",
         "type": "scatter",
         "x": [
          1999
         ],
         "y": [
          30060
         ]
        },
        {
         "name": "GUILLEMARD (ETS...)",
         "type": "scatter",
         "x": [
          1957
         ],
         "y": [
          4745
         ]
        },
        {
         "name": "HALLES MANDAR",
         "type": "scatter",
         "x": [
          1977
         ],
         "y": [
          37684
         ]
        },
        {
         "name": "HALLES ORLY SUD",
         "type": "scatter",
         "x": [
          1992
         ],
         "y": [
          14517
         ]
        },
        {
         "name": "HALLES PARIS SUD",
         "type": "scatter",
         "x": [
          1970
         ],
         "y": [
          10976
         ]
        },
        {
         "name": "HM DISTRIBUTION",
         "type": "scatter",
         "x": [
          1955
         ],
         "y": [
          17014
         ]
        },
        {
         "name": "IMPERIAL",
         "type": "scatter",
         "x": [
          1994
         ],
         "y": [
          3693
         ]
        },
        {
         "name": "JH",
         "type": "scatter",
         "x": [
          1983
         ],
         "y": [
          28831
         ]
        },
        {
         "name": "JULBUL",
         "type": "scatter",
         "x": [
          2012
         ],
         "y": [
          2905
         ]
        },
        {
         "name": "JULMAT PRIMEURS",
         "type": "scatter",
         "x": [
          1977
         ],
         "y": [
          6300
         ]
        },
        {
         "name": "KOTE SAVEURS",
         "type": "scatter",
         "x": [
          2018
         ],
         "y": [
          5102
         ]
        },
        {
         "name": "KS-JLG",
         "type": "scatter",
         "x": [
          2012
         ],
         "y": [
          2085
         ]
        },
        {
         "name": "L'HARMEROULT ET CUET",
         "type": "scatter",
         "x": [
          1990
         ],
         "y": [
          5647
         ]
        },
        {
         "name": "LA COOP BIO D'ILE DE FRANCE",
         "type": "scatter",
         "x": [
          2014
         ],
         "y": [
          5220
         ]
        },
        {
         "name": "LA POM'ROSE",
         "type": "scatter",
         "x": [
          2017
         ],
         "y": [
          10167
         ]
        },
        {
         "name": "LA PULPE",
         "type": "scatter",
         "x": [
          1966
         ],
         "y": [
          33123
         ]
        },
        {
         "name": "LA TABLE DE ROLAND",
         "type": "scatter",
         "x": [
          2015
         ],
         "y": [
          2194
         ]
        },
        {
         "name": "LE PRIMEUR DU SQUARE",
         "type": "scatter",
         "x": [
          2012
         ],
         "y": [
          1291
         ]
        },
        {
         "name": "LEBLANC ET SERRE",
         "type": "scatter",
         "x": [
          1968
         ],
         "y": [
          15796
         ]
        },
        {
         "name": "LEGUERINAIS PRIMEURS",
         "type": "scatter",
         "x": [
          1972
         ],
         "y": [
          6247
         ]
        },
        {
         "name": "LES JARDINS D'ALBERT",
         "type": "scatter",
         "x": [
          1997
         ],
         "y": [
          8165
         ]
        },
        {
         "name": "LES VERGERS CHRISTOLIENS - ETS F REBIFFE",
         "type": "scatter",
         "x": [
          1960
         ],
         "y": [
          7729
         ]
        },
        {
         "name": "LES VERGERS DE BOULOGNE",
         "type": "scatter",
         "x": [
          1970
         ],
         "y": [
          1600
         ]
        },
        {
         "name": "LLISO FRERES BANANES FRUITS PRIMEURS",
         "type": "scatter",
         "x": [
          1969
         ],
         "y": [
          11416
         ]
        },
        {
         "name": "LORENZI",
         "type": "scatter",
         "x": [
          1973
         ],
         "y": [
          5032
         ]
        },
        {
         "name": "LUKY FRUITS",
         "type": "scatter",
         "x": [
          1994
         ],
         "y": [
          8341
         ]
        },
        {
         "name": "MACEO DISTRIBUTION",
         "type": "scatter",
         "x": [
          1989
         ],
         "y": [
          25818
         ]
        },
        {
         "name": "MAGELLAN",
         "type": "scatter",
         "x": [
          2008
         ],
         "y": [
          10897
         ]
        },
        {
         "name": "MAGNIER (ETS...)",
         "type": "scatter",
         "x": [
          1977
         ],
         "y": [
          9189
         ]
        },
        {
         "name": "MAJGICO",
         "type": "scatter",
         "x": [
          2012
         ],
         "y": [
          2230
         ]
        },
        {
         "name": "MARTIAL DUVAL (ETS...)",
         "type": "scatter",
         "x": [
          1971
         ],
         "y": [
          6578
         ]
        },
        {
         "name": "MARTY FL",
         "type": "scatter",
         "x": [
          2013
         ],
         "y": [
          4046
         ]
        },
        {
         "name": "MED'ESSOR FRANCE",
         "type": "scatter",
         "x": [
          2007
         ],
         "y": [
          4968
         ]
        },
        {
         "name": "MG PRIMEURS",
         "type": "scatter",
         "x": [
          2005
         ],
         "y": [
          16853
         ]
        },
        {
         "name": "MICHELLE MAUDUIT (ETS...)",
         "type": "scatter",
         "x": [
          1973
         ],
         "y": [
          6402
         ]
        },
        {
         "name": "MIGHIRIAN FRERES",
         "type": "scatter",
         "x": [
          1955
         ],
         "y": [
          14869
         ]
        },
        {
         "name": "MONLOUP (ETS...)",
         "type": "scatter",
         "x": [
          1957
         ],
         "y": [
          17714
         ]
        },
        {
         "name": "MOOREA COMMERCE FRUITS",
         "type": "scatter",
         "x": [
          2011
         ],
         "y": [
          15630
         ]
        },
        {
         "name": "MORATAL",
         "type": "scatter",
         "x": [
          1994
         ],
         "y": [
          2992
         ]
        },
        {
         "name": "MOUNEYRAC FRERES",
         "type": "scatter",
         "x": [
          1964
         ],
         "y": [
          12117
         ]
        },
        {
         "name": "MZ PRIMEURS",
         "type": "scatter",
         "x": [
          2009
         ],
         "y": [
          676
         ]
        },
        {
         "name": "NETA",
         "type": "scatter",
         "x": [
          2003
         ],
         "y": [
          31057
         ]
        },
        {
         "name": "O'BO MANGO",
         "type": "scatter",
         "x": [
          2010
         ],
         "y": [
          939
         ]
        },
        {
         "name": "OLIVER (ETS...)",
         "type": "scatter",
         "x": [
          1959
         ],
         "y": [
          8755
         ]
        },
        {
         "name": "PAMARTE",
         "type": "scatter",
         "x": [
          1954
         ],
         "y": [
          6741
         ]
        },
        {
         "name": "PARIS AIL",
         "type": "scatter",
         "x": [
          1999
         ],
         "y": [
          13818
         ]
        },
        {
         "name": "PARIS EUROPE ALIMENTATION",
         "type": "scatter",
         "x": [
          2008
         ],
         "y": [
          3240
         ]
        },
        {
         "name": "PARIS PASSION FRAIS",
         "type": "scatter",
         "x": [
          2016
         ],
         "y": [
          2957
         ]
        },
        {
         "name": "PARIS SAVEURS",
         "type": "scatter",
         "x": [
          2007
         ],
         "y": [
          7292
         ]
        },
        {
         "name": "PARIS SELECT",
         "type": "scatter",
         "x": [
          1975
         ],
         "y": [
          6263
         ]
        },
        {
         "name": "PAUL PRIMEURS",
         "type": "scatter",
         "x": [
          2007
         ],
         "y": [
          9775
         ]
        },
        {
         "name": "PDM",
         "type": "scatter",
         "x": [
          2003
         ],
         "y": [
          15646
         ]
        },
        {
         "name": "PE-WE",
         "type": "scatter",
         "x": [
          1971
         ],
         "y": [
          5646
         ]
        },
        {
         "name": "PIERRE BOUCHARECHAS (STE D'EXPLOITATION DES ETS...)",
         "type": "scatter",
         "x": [
          1970
         ],
         "y": [
          4621
         ]
        },
        {
         "name": "PIERRE DESMETTRE ET FILS (ETS...)",
         "type": "scatter",
         "x": [
          1993
         ],
         "y": [
          53086
         ]
        },
        {
         "name": "POM ALLIANCE",
         "type": "scatter",
         "x": [
          1983
         ],
         "y": [
          86926
         ]
        },
        {
         "name": "POM DE TTHEROUANNE",
         "type": "scatter",
         "x": [
          2008
         ],
         "y": [
          4420
         ]
        },
        {
         "name": "POMONA IMPORT",
         "type": "scatter",
         "x": [
          1956
         ],
         "y": [
          68231
         ]
        },
        {
         "name": "PRIERE ET ZAHLER FRERES",
         "type": "scatter",
         "x": [
          1960
         ],
         "y": [
          24506
         ]
        },
        {
         "name": "PRIM'FRUIT",
         "type": "scatter",
         "x": [
          2001
         ],
         "y": [
          7969
         ]
        },
        {
         "name": "PRIMEUR SERVICES DISTRIBUTION",
         "type": "scatter",
         "x": [
          2000
         ],
         "y": [
          10082
         ]
        },
        {
         "name": "PRIMEUROPE IMPORT ET EXPORT",
         "type": "scatter",
         "x": [
          1990
         ],
         "y": [
          12005
         ]
        },
        {
         "name": "PRIMEURS SAINT DENIS",
         "type": "scatter",
         "x": [
          1958
         ],
         "y": [
          14259
         ]
        },
        {
         "name": "PRIMOUEST IMPEX",
         "type": "scatter",
         "x": [
          1969
         ],
         "y": [
          11395
         ]
        },
        {
         "name": "PRODISCO",
         "type": "scatter",
         "x": [
          1994
         ],
         "y": [
          7689
         ]
        },
        {
         "name": "PROMAFRUIT",
         "type": "scatter",
         "x": [
          1969
         ],
         "y": [
          7985
         ]
        },
        {
         "name": "PSL FRANCE",
         "type": "scatter",
         "x": [
          2006
         ],
         "y": [
          7304
         ]
        },
        {
         "name": "PUECH MONTANA",
         "type": "scatter",
         "x": [
          2003
         ],
         "y": [
          16909
         ]
        },
        {
         "name": "PVM",
         "type": "scatter",
         "x": [
          1970
         ],
         "y": [
          18371
         ]
        },
        {
         "name": "RAFAEL LOPEZ",
         "type": "scatter",
         "x": [
          1970
         ],
         "y": [
          13508
         ]
        },
        {
         "name": "RG FRANCE",
         "type": "scatter",
         "x": [
          2013
         ],
         "y": [
          16686
         ]
        },
        {
         "name": "RIVIERA",
         "type": "scatter",
         "x": [
          1956
         ],
         "y": [
          6573
         ]
        },
        {
         "name": "ROMAPRIM",
         "type": "scatter",
         "x": [
          1979
         ],
         "y": [
          4183
         ]
        },
        {
         "name": "ROUSSINEAU (ETS...)",
         "type": "scatter",
         "x": [
          1984
         ],
         "y": [
          16581
         ]
        },
        {
         "name": "ROUX (ETS...)",
         "type": "scatter",
         "x": [
          1976
         ],
         "y": [
          17034
         ]
        },
        {
         "name": "SANCHO FRUITS",
         "type": "scatter",
         "x": [
          1965
         ],
         "y": [
          10462
         ]
        },
        {
         "name": "SDS - SAVEURS DU SUD",
         "type": "scatter",
         "x": [
          2008
         ],
         "y": [
          2011
         ]
        },
        {
         "name": "SECRET DU PORTUGAL 2",
         "type": "scatter",
         "x": [
          2014
         ],
         "y": [
          704
         ]
        },
        {
         "name": "SELECT AGRUMES",
         "type": "scatter",
         "x": [
          1982
         ],
         "y": [
          25558
         ]
        },
        {
         "name": "SIIM - STE INTERNATIONALE D'IMPORTATION",
         "type": "scatter",
         "x": [
          1978
         ],
         "y": [
          97012
         ]
        },
        {
         "name": "SNDE STE NOUVELLE DREVIN EXOTICS",
         "type": "scatter",
         "x": [
          2005
         ],
         "y": [
          4061
         ]
        },
        {
         "name": "SOFIPRIM",
         "type": "scatter",
         "x": [
          1982
         ],
         "y": [
          1424
         ]
        },
        {
         "name": "SOLANES (ETS...)",
         "type": "scatter",
         "x": [
          1970
         ],
         "y": [
          9949
         ]
        },
        {
         "name": "SOLPOM",
         "type": "scatter",
         "x": [
          2013
         ],
         "y": [
          9618
         ]
        },
        {
         "name": "SPEIR - STE PARISIENNE EXPORT IMPORT REPARTITION",
         "type": "scatter",
         "x": [
          1970
         ],
         "y": [
          43395
         ]
        },
        {
         "name": "SUN 7 FRUITS",
         "type": "scatter",
         "x": [
          2013
         ],
         "y": [
          5815
         ]
        },
        {
         "name": "TERRAGAIA",
         "type": "scatter",
         "x": [
          2007
         ],
         "y": [
          41958
         ]
        },
        {
         "name": "THIRION FRUITS ET LEGUMES (ETS...)",
         "type": "scatter",
         "x": [
          1972
         ],
         "y": [
          4264
         ]
        },
        {
         "name": "TROPIBANA",
         "type": "scatter",
         "x": [
          2004
         ],
         "y": [
          4976
         ]
        },
        {
         "name": "UNION PRIMEURS ETS LAURANCE",
         "type": "scatter",
         "x": [
          1965
         ],
         "y": [
          35908
         ]
        },
        {
         "name": "VINAS",
         "type": "scatter",
         "x": [
          1974
         ],
         "y": [
          47464
         ]
        },
        {
         "name": "VOICEVALE FRANCE",
         "type": "scatter",
         "x": [
          1992
         ],
         "y": [
          95441
         ]
        }
       ],
       "layout": {
        "template": {
         "data": {
          "scatter": [
           {
            "type": "scatter"
           }
          ]
         }
        }
       }
      },
      "text/html": [
       "<div>                            <div id=\"93f1ab73-2752-4b0e-ba2d-d928dee5006f\" class=\"plotly-graph-div\" style=\"height:525px; width:100%;\"></div>            <script type=\"text/javascript\">                require([\"plotly\"], function(Plotly) {                    window.PLOTLYENV=window.PLOTLYENV || {};                                    if (document.getElementById(\"93f1ab73-2752-4b0e-ba2d-d928dee5006f\")) {                    Plotly.newPlot(                        \"93f1ab73-2752-4b0e-ba2d-d928dee5006f\",                        [{\"name\": \"A TOUT FRUITS\", \"type\": \"scatter\", \"x\": [2012], \"y\": [774.0]}, {\"name\": \"ACS\", \"type\": \"scatter\", \"x\": [2011], \"y\": [5158.0]}, {\"name\": \"ADM PRIMEURS\", \"type\": \"scatter\", \"x\": [2017], \"y\": [12157.0]}, {\"name\": \"AGRUBAN\", \"type\": \"scatter\", \"x\": [2008], \"y\": [10015.0]}, {\"name\": \"AMS EUROPEAN\", \"type\": \"scatter\", \"x\": [2004], \"y\": [13940.0]}, {\"name\": \"ANAREX\", \"type\": \"scatter\", \"x\": [1988], \"y\": [3882.0]}, {\"name\": \"ANDRADE DISTRIBUTION\", \"type\": \"scatter\", \"x\": [2003], \"y\": [7834.0]}, {\"name\": \"ASIA GROUP\", \"type\": \"scatter\", \"x\": [2010], \"y\": [10009.0]}, {\"name\": \"ATOM APPROVISIONNEMENTS TRAFIC OUTRE MER\", \"type\": \"scatter\", \"x\": [1994], \"y\": [5916.0]}, {\"name\": \"AUBER PRIMEURS\", \"type\": \"scatter\", \"x\": [1987], \"y\": [580.0]}, {\"name\": \"AUX CHAMPIGNONS DES BOIS\", \"type\": \"scatter\", \"x\": [2017], \"y\": [1388.0]}, {\"name\": \"AVON\", \"type\": \"scatter\", \"x\": [1985], \"y\": [13592.0]}, {\"name\": \"BALEUX (ETS...)\", \"type\": \"scatter\", \"x\": [1969], \"y\": [17986.0]}, {\"name\": \"BANAGRUMES\", \"type\": \"scatter\", \"x\": [1970], \"y\": [21512.0]}, {\"name\": \"BARNIER\", \"type\": \"scatter\", \"x\": [1996], \"y\": [11609.0]}, {\"name\": \"BC PRIM\", \"type\": \"scatter\", \"x\": [1993], \"y\": [43694.0]}, {\"name\": \"BESSON ET ALAPONT (ETS...)\", \"type\": \"scatter\", \"x\": [1956], \"y\": [35883.0]}, {\"name\": \"BESSON FRERES\", \"type\": \"scatter\", \"x\": [2013], \"y\": [15459.0]}, {\"name\": \"BEVA FRUITS INTERNATIONAL\", \"type\": \"scatter\", \"x\": [2002], \"y\": [18301.0]}, {\"name\": \"BIOALIZE\", \"type\": \"scatter\", \"x\": [1995], \"y\": [8656.0]}, {\"name\": \"BLAMPIN FRUITS IMPORT RUNGIS\", \"type\": \"scatter\", \"x\": [2004], \"y\": [34480.0]}, {\"name\": \"BONABIO\", \"type\": \"scatter\", \"x\": [2017], \"y\": [18709.0]}, {\"name\": \"BONIFACCI FRERES\", \"type\": \"scatter\", \"x\": [1988], \"y\": [14597.0]}, {\"name\": \"BRATIGNY\", \"type\": \"scatter\", \"x\": [1957], \"y\": [27178.0]}, {\"name\": \"CAPESPAN\", \"type\": \"scatter\", \"x\": [1965], \"y\": [845.0]}, {\"name\": \"CAPEXO\", \"type\": \"scatter\", \"x\": [1996], \"y\": [53688.0]}, {\"name\": \"CAPEXO FROID\", \"type\": \"scatter\", \"x\": [2013], \"y\": [1040.0]}, {\"name\": \"CAPEXO SERVICES\", \"type\": \"scatter\", \"x\": [2004], \"y\": [1143.0]}, {\"name\": \"CAPOCCI\", \"type\": \"scatter\", \"x\": [1979], \"y\": [2285.0]}, {\"name\": \"CAPOSUD\", \"type\": \"scatter\", \"x\": [2007], \"y\": [7506.0]}, {\"name\": \"CAZALIS\", \"type\": \"scatter\", \"x\": [2016], \"y\": [16544.0]}, {\"name\": \"CENTRE FRUITS\", \"type\": \"scatter\", \"x\": [1986], \"y\": [5273.0]}, {\"name\": \"CHAMPARIS\", \"type\": \"scatter\", \"x\": [1969], \"y\": [11103.0]}, {\"name\": \"CHRONOPRIMEURS\", \"type\": \"scatter\", \"x\": [1991], \"y\": [62193.0]}, {\"name\": \"COICAULT THOMAS\", \"type\": \"scatter\", \"x\": [1957], \"y\": [11118.0]}, {\"name\": \"COLOM SUD\", \"type\": \"scatter\", \"x\": [2019], \"y\": [1354.0]}, {\"name\": \"COMMERCIAL FRUITS\", \"type\": \"scatter\", \"x\": [1993], \"y\": [25526.0]}, {\"name\": \"CORBEILLES\", \"type\": \"scatter\", \"x\": [1998], \"y\": [2961.0]}, {\"name\": \"CRUCHAUDET - GRANDJEAN\", \"type\": \"scatter\", \"x\": [1983], \"y\": [24387.0]}, {\"name\": \"DANGA EXOTIC\", \"type\": \"scatter\", \"x\": [2007], \"y\": [937.0]}, {\"name\": \"DAUMESNIL PRIMEURS\", \"type\": \"scatter\", \"x\": [1992], \"y\": [15249.0]}, {\"name\": \"DEL MONTE FRANCE\", \"type\": \"scatter\", \"x\": [1980], \"y\": [50151.0]}, {\"name\": \"DESMETTRE BIO\", \"type\": \"scatter\", \"x\": [2018], \"y\": [1936.0]}, {\"name\": \"DISTRIBUTION EXPRESSE A VOCATION ALIMENTAIRE SODIEXVAL (STE DE...)\", \"type\": \"scatter\", \"x\": [1985], \"y\": [54712.0]}, {\"name\": \"DJSMM\", \"type\": \"scatter\", \"x\": [1999], \"y\": [9670.0]}, {\"name\": \"EDOUARD BIDAULT (ETS...)\", \"type\": \"scatter\", \"x\": [1979], \"y\": [4281.0]}, {\"name\": \"ELITE FRUITS\", \"type\": \"scatter\", \"x\": [1990], \"y\": [13451.0]}, {\"name\": \"ELQUI IMPORT\", \"type\": \"scatter\", \"x\": [2007], \"y\": [8513.0]}, {\"name\": \"EUROPLANT FRANCE\", \"type\": \"scatter\", \"x\": [2001], \"y\": [11138.0]}, {\"name\": \"EXCEL DISTRIBUTION\", \"type\": \"scatter\", \"x\": [2012], \"y\": [3648.0]}, {\"name\": \"EXO 3\", \"type\": \"scatter\", \"x\": [2007], \"y\": [13320.0]}, {\"name\": \"EXOTICA\", \"type\": \"scatter\", \"x\": [2014], \"y\": [14141.0]}, {\"name\": \"FENES\", \"type\": \"scatter\", \"x\": [1984], \"y\": [2556.0]}, {\"name\": \"FINANCIERE DE DISTRIBUTION ALIMENTAIRE COFIDA (CIE...)\", \"type\": \"scatter\", \"x\": [1991], \"y\": [4959.0]}, {\"name\": \"FRAICHE PRIMEURS\", \"type\": \"scatter\", \"x\": [2012], \"y\": [4849.0]}, {\"name\": \"FRELICOT\", \"type\": \"scatter\", \"x\": [1987], \"y\": [18759.0]}, {\"name\": \"FRESAL\", \"type\": \"scatter\", \"x\": [2012], \"y\": [5353.0]}, {\"name\": \"FRUITIERE FRANCE (CIE...)\", \"type\": \"scatter\", \"x\": [1965], \"y\": [141014.0]}, {\"name\": \"FRUITS DU MONDE\", \"type\": \"scatter\", \"x\": [1993], \"y\": [87421.0]}, {\"name\": \"FRUTILAND\", \"type\": \"scatter\", \"x\": [2008], \"y\": [2734.0]}, {\"name\": \"GBS\", \"type\": \"scatter\", \"x\": [1955], \"y\": [15397.0]}, {\"name\": \"GEDO\", \"type\": \"scatter\", \"x\": [1994], \"y\": [1401.0]}, {\"name\": \"GEORGES HELFER SA FRANCE\", \"type\": \"scatter\", \"x\": [1956], \"y\": [86741.0]}, {\"name\": \"GOETZ\", \"type\": \"scatter\", \"x\": [1979], \"y\": [12549.0]}, {\"name\": \"GREENYARD FRESH FRANCE\", \"type\": \"scatter\", \"x\": [1980], \"y\": [98869.0]}, {\"name\": \"GROUPE DYNAMIS\", \"type\": \"scatter\", \"x\": [1999], \"y\": [30060.0]}, {\"name\": \"GUILLEMARD (ETS...)\", \"type\": \"scatter\", \"x\": [1957], \"y\": [4745.0]}, {\"name\": \"HALLES MANDAR\", \"type\": \"scatter\", \"x\": [1977], \"y\": [37684.0]}, {\"name\": \"HALLES ORLY SUD\", \"type\": \"scatter\", \"x\": [1992], \"y\": [14517.0]}, {\"name\": \"HALLES PARIS SUD\", \"type\": \"scatter\", \"x\": [1970], \"y\": [10976.0]}, {\"name\": \"HM DISTRIBUTION\", \"type\": \"scatter\", \"x\": [1955], \"y\": [17014.0]}, {\"name\": \"IMPERIAL\", \"type\": \"scatter\", \"x\": [1994], \"y\": [3693.0]}, {\"name\": \"JH\", \"type\": \"scatter\", \"x\": [1983], \"y\": [28831.0]}, {\"name\": \"JULBUL\", \"type\": \"scatter\", \"x\": [2012], \"y\": [2905.0]}, {\"name\": \"JULMAT PRIMEURS\", \"type\": \"scatter\", \"x\": [1977], \"y\": [6300.0]}, {\"name\": \"KOTE SAVEURS\", \"type\": \"scatter\", \"x\": [2018], \"y\": [5102.0]}, {\"name\": \"KS-JLG\", \"type\": \"scatter\", \"x\": [2012], \"y\": [2085.0]}, {\"name\": \"L'HARMEROULT ET CUET\", \"type\": \"scatter\", \"x\": [1990], \"y\": [5647.0]}, {\"name\": \"LA COOP BIO D'ILE DE FRANCE\", \"type\": \"scatter\", \"x\": [2014], \"y\": [5220.0]}, {\"name\": \"LA POM'ROSE\", \"type\": \"scatter\", \"x\": [2017], \"y\": [10167.0]}, {\"name\": \"LA PULPE\", \"type\": \"scatter\", \"x\": [1966], \"y\": [33123.0]}, {\"name\": \"LA TABLE DE ROLAND\", \"type\": \"scatter\", \"x\": [2015], \"y\": [2194.0]}, {\"name\": \"LE PRIMEUR DU SQUARE\", \"type\": \"scatter\", \"x\": [2012], \"y\": [1291.0]}, {\"name\": \"LEBLANC ET SERRE\", \"type\": \"scatter\", \"x\": [1968], \"y\": [15796.0]}, {\"name\": \"LEGUERINAIS PRIMEURS\", \"type\": \"scatter\", \"x\": [1972], \"y\": [6247.0]}, {\"name\": \"LES JARDINS D'ALBERT\", \"type\": \"scatter\", \"x\": [1997], \"y\": [8165.0]}, {\"name\": \"LES VERGERS CHRISTOLIENS - ETS F REBIFFE\", \"type\": \"scatter\", \"x\": [1960], \"y\": [7729.0]}, {\"name\": \"LES VERGERS DE BOULOGNE\", \"type\": \"scatter\", \"x\": [1970], \"y\": [1600.0]}, {\"name\": \"LLISO FRERES BANANES FRUITS PRIMEURS\", \"type\": \"scatter\", \"x\": [1969], \"y\": [11416.0]}, {\"name\": \"LORENZI\", \"type\": \"scatter\", \"x\": [1973], \"y\": [5032.0]}, {\"name\": \"LUKY FRUITS\", \"type\": \"scatter\", \"x\": [1994], \"y\": [8341.0]}, {\"name\": \"MACEO DISTRIBUTION\", \"type\": \"scatter\", \"x\": [1989], \"y\": [25818.0]}, {\"name\": \"MAGELLAN\", \"type\": \"scatter\", \"x\": [2008], \"y\": [10897.0]}, {\"name\": \"MAGNIER (ETS...)\", \"type\": \"scatter\", \"x\": [1977], \"y\": [9189.0]}, {\"name\": \"MAJGICO\", \"type\": \"scatter\", \"x\": [2012], \"y\": [2230.0]}, {\"name\": \"MARTIAL DUVAL (ETS...)\", \"type\": \"scatter\", \"x\": [1971], \"y\": [6578.0]}, {\"name\": \"MARTY FL\", \"type\": \"scatter\", \"x\": [2013], \"y\": [4046.0]}, {\"name\": \"MED'ESSOR FRANCE\", \"type\": \"scatter\", \"x\": [2007], \"y\": [4968.0]}, {\"name\": \"MG PRIMEURS\", \"type\": \"scatter\", \"x\": [2005], \"y\": [16853.0]}, {\"name\": \"MICHELLE MAUDUIT (ETS...)\", \"type\": \"scatter\", \"x\": [1973], \"y\": [6402.0]}, {\"name\": \"MIGHIRIAN FRERES\", \"type\": \"scatter\", \"x\": [1955], \"y\": [14869.0]}, {\"name\": \"MONLOUP (ETS...)\", \"type\": \"scatter\", \"x\": [1957], \"y\": [17714.0]}, {\"name\": \"MOOREA COMMERCE FRUITS\", \"type\": \"scatter\", \"x\": [2011], \"y\": [15630.0]}, {\"name\": \"MORATAL\", \"type\": \"scatter\", \"x\": [1994], \"y\": [2992.0]}, {\"name\": \"MOUNEYRAC FRERES\", \"type\": \"scatter\", \"x\": [1964], \"y\": [12117.0]}, {\"name\": \"MZ PRIMEURS\", \"type\": \"scatter\", \"x\": [2009], \"y\": [676.0]}, {\"name\": \"NETA\", \"type\": \"scatter\", \"x\": [2003], \"y\": [31057.0]}, {\"name\": \"O'BO MANGO\", \"type\": \"scatter\", \"x\": [2010], \"y\": [939.0]}, {\"name\": \"OLIVER (ETS...)\", \"type\": \"scatter\", \"x\": [1959], \"y\": [8755.0]}, {\"name\": \"PAMARTE\", \"type\": \"scatter\", \"x\": [1954], \"y\": [6741.0]}, {\"name\": \"PARIS AIL\", \"type\": \"scatter\", \"x\": [1999], \"y\": [13818.0]}, {\"name\": \"PARIS EUROPE ALIMENTATION\", \"type\": \"scatter\", \"x\": [2008], \"y\": [3240.0]}, {\"name\": \"PARIS PASSION FRAIS\", \"type\": \"scatter\", \"x\": [2016], \"y\": [2957.0]}, {\"name\": \"PARIS SAVEURS\", \"type\": \"scatter\", \"x\": [2007], \"y\": [7292.0]}, {\"name\": \"PARIS SELECT\", \"type\": \"scatter\", \"x\": [1975], \"y\": [6263.0]}, {\"name\": \"PAUL PRIMEURS\", \"type\": \"scatter\", \"x\": [2007], \"y\": [9775.0]}, {\"name\": \"PDM\", \"type\": \"scatter\", \"x\": [2003], \"y\": [15646.0]}, {\"name\": \"PE-WE\", \"type\": \"scatter\", \"x\": [1971], \"y\": [5646.0]}, {\"name\": \"PIERRE BOUCHARECHAS (STE D'EXPLOITATION DES ETS...)\", \"type\": \"scatter\", \"x\": [1970], \"y\": [4621.0]}, {\"name\": \"PIERRE DESMETTRE ET FILS (ETS...)\", \"type\": \"scatter\", \"x\": [1993], \"y\": [53086.0]}, {\"name\": \"POM ALLIANCE\", \"type\": \"scatter\", \"x\": [1983], \"y\": [86926.0]}, {\"name\": \"POM DE TTHEROUANNE\", \"type\": \"scatter\", \"x\": [2008], \"y\": [4420.0]}, {\"name\": \"POMONA IMPORT\", \"type\": \"scatter\", \"x\": [1956], \"y\": [68231.0]}, {\"name\": \"PRIERE ET ZAHLER FRERES\", \"type\": \"scatter\", \"x\": [1960], \"y\": [24506.0]}, {\"name\": \"PRIM'FRUIT\", \"type\": \"scatter\", \"x\": [2001], \"y\": [7969.0]}, {\"name\": \"PRIMEUR SERVICES DISTRIBUTION\", \"type\": \"scatter\", \"x\": [2000], \"y\": [10082.0]}, {\"name\": \"PRIMEUROPE IMPORT ET EXPORT\", \"type\": \"scatter\", \"x\": [1990], \"y\": [12005.0]}, {\"name\": \"PRIMEURS SAINT DENIS\", \"type\": \"scatter\", \"x\": [1958], \"y\": [14259.0]}, {\"name\": \"PRIMOUEST IMPEX\", \"type\": \"scatter\", \"x\": [1969], \"y\": [11395.0]}, {\"name\": \"PRODISCO\", \"type\": \"scatter\", \"x\": [1994], \"y\": [7689.0]}, {\"name\": \"PROMAFRUIT\", \"type\": \"scatter\", \"x\": [1969], \"y\": [7985.0]}, {\"name\": \"PSL FRANCE\", \"type\": \"scatter\", \"x\": [2006], \"y\": [7304.0]}, {\"name\": \"PUECH MONTANA\", \"type\": \"scatter\", \"x\": [2003], \"y\": [16909.0]}, {\"name\": \"PVM\", \"type\": \"scatter\", \"x\": [1970], \"y\": [18371.0]}, {\"name\": \"RAFAEL LOPEZ\", \"type\": \"scatter\", \"x\": [1970], \"y\": [13508.0]}, {\"name\": \"RG FRANCE\", \"type\": \"scatter\", \"x\": [2013], \"y\": [16686.0]}, {\"name\": \"RIVIERA\", \"type\": \"scatter\", \"x\": [1956], \"y\": [6573.0]}, {\"name\": \"ROMAPRIM\", \"type\": \"scatter\", \"x\": [1979], \"y\": [4183.0]}, {\"name\": \"ROUSSINEAU (ETS...)\", \"type\": \"scatter\", \"x\": [1984], \"y\": [16581.0]}, {\"name\": \"ROUX (ETS...)\", \"type\": \"scatter\", \"x\": [1976], \"y\": [17034.0]}, {\"name\": \"SANCHO FRUITS\", \"type\": \"scatter\", \"x\": [1965], \"y\": [10462.0]}, {\"name\": \"SDS - SAVEURS DU SUD\", \"type\": \"scatter\", \"x\": [2008], \"y\": [2011.0]}, {\"name\": \"SECRET DU PORTUGAL 2\", \"type\": \"scatter\", \"x\": [2014], \"y\": [704.0]}, {\"name\": \"SELECT AGRUMES\", \"type\": \"scatter\", \"x\": [1982], \"y\": [25558.0]}, {\"name\": \"SIIM - STE INTERNATIONALE D'IMPORTATION\", \"type\": \"scatter\", \"x\": [1978], \"y\": [97012.0]}, {\"name\": \"SNDE STE NOUVELLE DREVIN EXOTICS\", \"type\": \"scatter\", \"x\": [2005], \"y\": [4061.0]}, {\"name\": \"SOFIPRIM\", \"type\": \"scatter\", \"x\": [1982], \"y\": [1424.0]}, {\"name\": \"SOLANES (ETS...)\", \"type\": \"scatter\", \"x\": [1970], \"y\": [9949.0]}, {\"name\": \"SOLPOM\", \"type\": \"scatter\", \"x\": [2013], \"y\": [9618.0]}, {\"name\": \"SPEIR - STE PARISIENNE EXPORT IMPORT REPARTITION\", \"type\": \"scatter\", \"x\": [1970], \"y\": [43395.0]}, {\"name\": \"SUN 7 FRUITS\", \"type\": \"scatter\", \"x\": [2013], \"y\": [5815.0]}, {\"name\": \"TERRAGAIA\", \"type\": \"scatter\", \"x\": [2007], \"y\": [41958.0]}, {\"name\": \"THIRION FRUITS ET LEGUMES (ETS...)\", \"type\": \"scatter\", \"x\": [1972], \"y\": [4264.0]}, {\"name\": \"TROPIBANA\", \"type\": \"scatter\", \"x\": [2004], \"y\": [4976.0]}, {\"name\": \"UNION PRIMEURS ETS LAURANCE\", \"type\": \"scatter\", \"x\": [1965], \"y\": [35908.0]}, {\"name\": \"VINAS\", \"type\": \"scatter\", \"x\": [1974], \"y\": [47464.0]}, {\"name\": \"VOICEVALE FRANCE\", \"type\": \"scatter\", \"x\": [1992], \"y\": [95441.0]}],                        {\"template\": {\"data\": {\"scatter\": [{\"type\": \"scatter\"}]}}},                        {\"responsive\": true}                    ).then(function(){\n",
       "                            \n",
       "var gd = document.getElementById('93f1ab73-2752-4b0e-ba2d-d928dee5006f');\n",
       "var x = new MutationObserver(function (mutations, observer) {{\n",
       "        var display = window.getComputedStyle(gd).display;\n",
       "        if (!display || display === 'none') {{\n",
       "            console.log([gd, 'removed!']);\n",
       "            Plotly.purge(gd);\n",
       "            observer.disconnect();\n",
       "        }}\n",
       "}});\n",
       "\n",
       "// Listen for the removal of the full notebook cells\n",
       "var notebookContainer = gd.closest('#notebook-container');\n",
       "if (notebookContainer) {{\n",
       "    x.observe(notebookContainer, {childList: true});\n",
       "}}\n",
       "\n",
       "// Listen for the clearing of the current output cell\n",
       "var outputEl = gd.closest('.output');\n",
       "if (outputEl) {{\n",
       "    x.observe(outputEl, {childList: true});\n",
       "}}\n",
       "\n",
       "                        })                };                });            </script>        </div>"
      ]
     },
     "metadata": {},
     "output_type": "display_data"
    }
   ],
   "source": [
    "df = data[['RAISONSOCIALE','DATECREATION','FL']].sort_values(by = 'DATECREATION')\n",
    "\n",
    "normalised_data = df.pivot(index='DATECREATION', columns='RAISONSOCIALE', values='FL').fillna(0)\n",
    "normalised_data['DATE'] = normalised_data.index.sort_values()\n",
    "\n",
    "normalised_data = normalised_data.rename_axis('index').reset_index()\n",
    "normalised_data['year'] = pd.DatetimeIndex(normalised_data['DATE']).year\n",
    "del normalised_data['index']\n",
    "del normalised_data['DATE']\n",
    "normalised_data.sort_values(by=['year']).reset_index(drop = True)\n",
    "normalised_data.drop_duplicates(inplace = True)\n",
    "normalised_data\n",
    "data_to_plot = []\n",
    "\n",
    "for cluster in normalised_data.columns[0:157] : \n",
    "    data_cluster = normalised_data.loc[normalised_data[cluster] != 0]\n",
    "    data_to_plot.append(Scatter(x = data_cluster['year'], y = data_cluster[cluster], \n",
    "                                name = cluster))\n",
    "iplot(Figure(data = data_to_plot))"
   ]
  }
 ],
 "metadata": {
  "kernelspec": {
   "display_name": "Python 3",
   "language": "python",
   "name": "python3"
  },
  "language_info": {
   "codemirror_mode": {
    "name": "ipython",
    "version": 3
   },
   "file_extension": ".py",
   "mimetype": "text/x-python",
   "name": "python",
   "nbconvert_exporter": "python",
   "pygments_lexer": "ipython3",
   "version": "3.6.9"
  }
 },
 "nbformat": 4,
 "nbformat_minor": 2
}
